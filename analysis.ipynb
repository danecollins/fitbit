{
 "cells": [
  {
   "cell_type": "markdown",
   "metadata": {
    "button": false,
    "deletable": true,
    "new_sheet": false,
    "run_control": {
     "read_only": false
    }
   },
   "source": [
    "# Analyzing Fitbit Data in iPython\n",
    "\n",
    "Using the Fitbit Python library I downloaded the Fitbit activity, calorie and weight data. This notebook then analyzes the data as a way to learn about iPython."
   ]
  },
  {
   "cell_type": "code",
   "execution_count": 6,
   "metadata": {
    "button": false,
    "collapsed": false,
    "deletable": true,
    "new_sheet": false,
    "run_control": {
     "read_only": false
    }
   },
   "outputs": [
    {
     "name": "stdout",
     "output_type": "stream",
     "text": [
      "/Users/dane/src/fitbit\n"
     ]
    }
   ],
   "source": [
    "# This is required to get plots to display inline\n",
    "%matplotlib inline\n",
    "# Additional setup\n",
    "%cd /Users/dane/src/fitbit\n",
    "import pandas as pd\n",
    "import numpy as np\n",
    "import matplotlib.pyplot as plt\n",
    "dane=pd.read_csv('/Users/dane/src/fitbit/dane.csv')\n",
    "cindy=pd.read_csv('/Users/dane/src/fitbit/cindy.csv')"
   ]
  },
  {
   "cell_type": "code",
   "execution_count": 7,
   "metadata": {
    "button": false,
    "collapsed": false,
    "deletable": true,
    "new_sheet": false,
    "run_control": {
     "read_only": false
    }
   },
   "outputs": [
    {
     "data": {
      "text/html": [
       "<div>\n",
       "<table border=\"1\" class=\"dataframe\">\n",
       "  <thead>\n",
       "    <tr style=\"text-align: right;\">\n",
       "      <th></th>\n",
       "      <th>distance</th>\n",
       "      <th>steps</th>\n",
       "      <th>weight</th>\n",
       "      <th>active1</th>\n",
       "      <th>active2</th>\n",
       "      <th>active3</th>\n",
       "      <th>sedentary</th>\n",
       "      <th>calories</th>\n",
       "      <th>actcal</th>\n",
       "      <th>biking</th>\n",
       "      <th>date</th>\n",
       "      <th>month</th>\n",
       "      <th>year</th>\n",
       "      <th>user</th>\n",
       "    </tr>\n",
       "  </thead>\n",
       "  <tbody>\n",
       "    <tr>\n",
       "      <th>1107</th>\n",
       "      <td>6.94</td>\n",
       "      <td>14876</td>\n",
       "      <td>136.1</td>\n",
       "      <td>165</td>\n",
       "      <td>69</td>\n",
       "      <td>35</td>\n",
       "      <td>1171</td>\n",
       "      <td>1983</td>\n",
       "      <td>940</td>\n",
       "      <td>0</td>\n",
       "      <td>2015-12-27</td>\n",
       "      <td>12</td>\n",
       "      <td>2015</td>\n",
       "      <td>cindy</td>\n",
       "    </tr>\n",
       "    <tr>\n",
       "      <th>1108</th>\n",
       "      <td>7.87</td>\n",
       "      <td>16880</td>\n",
       "      <td>0.0</td>\n",
       "      <td>126</td>\n",
       "      <td>87</td>\n",
       "      <td>49</td>\n",
       "      <td>1178</td>\n",
       "      <td>2048</td>\n",
       "      <td>997</td>\n",
       "      <td>0</td>\n",
       "      <td>2015-12-28</td>\n",
       "      <td>12</td>\n",
       "      <td>2015</td>\n",
       "      <td>cindy</td>\n",
       "    </tr>\n",
       "    <tr>\n",
       "      <th>1109</th>\n",
       "      <td>9.27</td>\n",
       "      <td>19881</td>\n",
       "      <td>0.0</td>\n",
       "      <td>95</td>\n",
       "      <td>94</td>\n",
       "      <td>62</td>\n",
       "      <td>1189</td>\n",
       "      <td>2117</td>\n",
       "      <td>1056</td>\n",
       "      <td>0</td>\n",
       "      <td>2015-12-29</td>\n",
       "      <td>12</td>\n",
       "      <td>2015</td>\n",
       "      <td>cindy</td>\n",
       "    </tr>\n",
       "    <tr>\n",
       "      <th>1110</th>\n",
       "      <td>10.67</td>\n",
       "      <td>22843</td>\n",
       "      <td>0.0</td>\n",
       "      <td>111</td>\n",
       "      <td>107</td>\n",
       "      <td>85</td>\n",
       "      <td>1137</td>\n",
       "      <td>2295</td>\n",
       "      <td>1281</td>\n",
       "      <td>0</td>\n",
       "      <td>2015-12-30</td>\n",
       "      <td>12</td>\n",
       "      <td>2015</td>\n",
       "      <td>cindy</td>\n",
       "    </tr>\n",
       "    <tr>\n",
       "      <th>1111</th>\n",
       "      <td>8.11</td>\n",
       "      <td>17387</td>\n",
       "      <td>0.0</td>\n",
       "      <td>256</td>\n",
       "      <td>67</td>\n",
       "      <td>38</td>\n",
       "      <td>1079</td>\n",
       "      <td>2170</td>\n",
       "      <td>1207</td>\n",
       "      <td>0</td>\n",
       "      <td>2015-12-31</td>\n",
       "      <td>12</td>\n",
       "      <td>2015</td>\n",
       "      <td>cindy</td>\n",
       "    </tr>\n",
       "  </tbody>\n",
       "</table>\n",
       "</div>"
      ],
      "text/plain": [
       "      distance  steps  weight  active1  active2  active3  sedentary  calories  \\\n",
       "1107      6.94  14876   136.1      165       69       35       1171      1983   \n",
       "1108      7.87  16880     0.0      126       87       49       1178      2048   \n",
       "1109      9.27  19881     0.0       95       94       62       1189      2117   \n",
       "1110     10.67  22843     0.0      111      107       85       1137      2295   \n",
       "1111      8.11  17387     0.0      256       67       38       1079      2170   \n",
       "\n",
       "      actcal  biking        date  month  year   user  \n",
       "1107     940       0  2015-12-27     12  2015  cindy  \n",
       "1108     997       0  2015-12-28     12  2015  cindy  \n",
       "1109    1056       0  2015-12-29     12  2015  cindy  \n",
       "1110    1281       0  2015-12-30     12  2015  cindy  \n",
       "1111    1207       0  2015-12-31     12  2015  cindy  "
      ]
     },
     "execution_count": 7,
     "metadata": {},
     "output_type": "execute_result"
    }
   ],
   "source": [
    "cindy.tail()"
   ]
  },
  {
   "cell_type": "code",
   "execution_count": 8,
   "metadata": {
    "button": false,
    "collapsed": false,
    "deletable": true,
    "new_sheet": false,
    "run_control": {
     "read_only": false
    }
   },
   "outputs": [
    {
     "data": {
      "text/html": [
       "<div>\n",
       "<table border=\"1\" class=\"dataframe\">\n",
       "  <thead>\n",
       "    <tr style=\"text-align: right;\">\n",
       "      <th></th>\n",
       "      <th>distance</th>\n",
       "      <th>steps</th>\n",
       "      <th>weight</th>\n",
       "      <th>active1</th>\n",
       "      <th>active2</th>\n",
       "      <th>active3</th>\n",
       "      <th>sedentary</th>\n",
       "      <th>calories</th>\n",
       "      <th>actcal</th>\n",
       "      <th>biking</th>\n",
       "      <th>date</th>\n",
       "      <th>month</th>\n",
       "      <th>year</th>\n",
       "      <th>user</th>\n",
       "    </tr>\n",
       "  </thead>\n",
       "  <tbody>\n",
       "    <tr>\n",
       "      <th>1151</th>\n",
       "      <td>7.88</td>\n",
       "      <td>16098</td>\n",
       "      <td>159.3</td>\n",
       "      <td>137</td>\n",
       "      <td>84</td>\n",
       "      <td>41</td>\n",
       "      <td>1178</td>\n",
       "      <td>2507</td>\n",
       "      <td>1235</td>\n",
       "      <td>0</td>\n",
       "      <td>2015-12-27</td>\n",
       "      <td>12</td>\n",
       "      <td>2015</td>\n",
       "      <td>dane</td>\n",
       "    </tr>\n",
       "    <tr>\n",
       "      <th>1152</th>\n",
       "      <td>8.29</td>\n",
       "      <td>16935</td>\n",
       "      <td>0.0</td>\n",
       "      <td>137</td>\n",
       "      <td>87</td>\n",
       "      <td>49</td>\n",
       "      <td>1167</td>\n",
       "      <td>2566</td>\n",
       "      <td>1303</td>\n",
       "      <td>0</td>\n",
       "      <td>2015-12-28</td>\n",
       "      <td>12</td>\n",
       "      <td>2015</td>\n",
       "      <td>dane</td>\n",
       "    </tr>\n",
       "    <tr>\n",
       "      <th>1153</th>\n",
       "      <td>9.46</td>\n",
       "      <td>19323</td>\n",
       "      <td>0.0</td>\n",
       "      <td>97</td>\n",
       "      <td>103</td>\n",
       "      <td>58</td>\n",
       "      <td>1182</td>\n",
       "      <td>2628</td>\n",
       "      <td>1348</td>\n",
       "      <td>0</td>\n",
       "      <td>2015-12-29</td>\n",
       "      <td>12</td>\n",
       "      <td>2015</td>\n",
       "      <td>dane</td>\n",
       "    </tr>\n",
       "    <tr>\n",
       "      <th>1154</th>\n",
       "      <td>7.30</td>\n",
       "      <td>14914</td>\n",
       "      <td>0.0</td>\n",
       "      <td>81</td>\n",
       "      <td>80</td>\n",
       "      <td>51</td>\n",
       "      <td>1228</td>\n",
       "      <td>2439</td>\n",
       "      <td>1108</td>\n",
       "      <td>0</td>\n",
       "      <td>2015-12-30</td>\n",
       "      <td>12</td>\n",
       "      <td>2015</td>\n",
       "      <td>dane</td>\n",
       "    </tr>\n",
       "    <tr>\n",
       "      <th>1155</th>\n",
       "      <td>8.33</td>\n",
       "      <td>17019</td>\n",
       "      <td>0.0</td>\n",
       "      <td>207</td>\n",
       "      <td>73</td>\n",
       "      <td>36</td>\n",
       "      <td>1124</td>\n",
       "      <td>2653</td>\n",
       "      <td>1435</td>\n",
       "      <td>0</td>\n",
       "      <td>2015-12-31</td>\n",
       "      <td>12</td>\n",
       "      <td>2015</td>\n",
       "      <td>dane</td>\n",
       "    </tr>\n",
       "  </tbody>\n",
       "</table>\n",
       "</div>"
      ],
      "text/plain": [
       "      distance  steps  weight  active1  active2  active3  sedentary  calories  \\\n",
       "1151      7.88  16098   159.3      137       84       41       1178      2507   \n",
       "1152      8.29  16935     0.0      137       87       49       1167      2566   \n",
       "1153      9.46  19323     0.0       97      103       58       1182      2628   \n",
       "1154      7.30  14914     0.0       81       80       51       1228      2439   \n",
       "1155      8.33  17019     0.0      207       73       36       1124      2653   \n",
       "\n",
       "      actcal  biking        date  month  year  user  \n",
       "1151    1235       0  2015-12-27     12  2015  dane  \n",
       "1152    1303       0  2015-12-28     12  2015  dane  \n",
       "1153    1348       0  2015-12-29     12  2015  dane  \n",
       "1154    1108       0  2015-12-30     12  2015  dane  \n",
       "1155    1435       0  2015-12-31     12  2015  dane  "
      ]
     },
     "execution_count": 8,
     "metadata": {},
     "output_type": "execute_result"
    }
   ],
   "source": [
    "dane.tail()"
   ]
  },
  {
   "cell_type": "code",
   "execution_count": 10,
   "metadata": {
    "button": false,
    "collapsed": false,
    "deletable": true,
    "new_sheet": false,
    "run_control": {
     "read_only": false
    }
   },
   "outputs": [
    {
     "name": "stdout",
     "output_type": "stream",
     "text": [
      "Average distance per day was 7.8/7.7 miles for dane/cindy\n"
     ]
    }
   ],
   "source": [
    "print('Average distance per day was {:3.1f}/{:3.1f} miles for dane/cindy'.format(np.average(dane['distance']),np.average(cindy['distance'])))"
   ]
  },
  {
   "cell_type": "code",
   "execution_count": 11,
   "metadata": {
    "button": false,
    "collapsed": false,
    "deletable": true,
    "new_sheet": false,
    "run_control": {
     "read_only": false
    }
   },
   "outputs": [
    {
     "name": "stdout",
     "output_type": "stream",
     "text": [
      "The most steps in a day was: 43958/44847 for dane/cindy\n"
     ]
    }
   ],
   "source": [
    "print('The most steps in a day was: {}/{} for dane/cindy'.format(max(dane['steps']), max(cindy['steps'])))"
   ]
  },
  {
   "cell_type": "code",
   "execution_count": 21,
   "metadata": {
    "button": false,
    "collapsed": false,
    "deletable": true,
    "new_sheet": false,
    "run_control": {
     "read_only": false
    }
   },
   "outputs": [
    {
     "name": "stdout",
     "output_type": "stream",
     "text": [
      "Average weight over the year was: 158.13671497584542\n"
     ]
    }
   ],
   "source": [
    "# number of days with weight\n",
    "non_zero_days = dane[dane.weight!=0]\n",
    "#print('Average weight over the quarter was: {}'.format(np.average(non_zero_days)))\n",
    "nzd2015 = non_zero_days[non_zero_days.date >= '2015-01-01']\n",
    "print('Average weight over the year was: {}'.format(np.average(nzd2015.weight)))"
   ]
  },
  {
   "cell_type": "code",
   "execution_count": 30,
   "metadata": {
    "collapsed": false
   },
   "outputs": [
    {
     "data": {
      "image/png": "[encoded data removed]",
      "text/plain": [
       "<matplotlib.figure.Figure at 0x112536630>"
      ]
     },
     "metadata": {},
     "output_type": "display_data"
    }
   ],
   "source": [
    "# look at this by month\n",
    "nzd_month = nzd2015.groupby('month')\n",
    "p=plt.plot(nzd_month.agg(np.mean)['weight'])"
   ]
  },
  {
   "cell_type": "code",
   "execution_count": 33,
   "metadata": {
    "button": false,
    "collapsed": false,
    "deletable": true,
    "new_sheet": false,
    "run_control": {
     "read_only": false
    }
   },
   "outputs": [
    {
     "name": "stdout",
     "output_type": "stream",
     "text": [
      "Cindy\n",
      "  Average steps: 16,393\n",
      "  Total steps: 18,230,062\n",
      "Dane\n",
      "  Average steps: 16,084\n",
      "  Total steps: 18,593,348\n"
     ]
    }
   ],
   "source": [
    "# Basic Stats\n",
    "for n, i in [('Cindy', cindy), ('Dane', dane)]:\n",
    "    print('{}'.format(n.title()))\n",
    "    print('  Average steps: {:,}'.format(int(np.average(i['steps']))))\n",
    "    print('  Total steps: {:,}'.format(sum(i['steps'])))\n",
    "    #print('Average for month {} is {}'.format(i,np.average(fbdata[fbdata.month==i]['steps'])))"
   ]
  },
  {
   "cell_type": "code",
   "execution_count": 35,
   "metadata": {
    "button": false,
    "collapsed": false,
    "deletable": true,
    "new_sheet": false,
    "run_control": {
     "read_only": false
    }
   },
   "outputs": [
    {
     "data": {
      "image/png": "[encoded data removed]",
      "text/plain": [
       "<matplotlib.figure.Figure at 0x112d23668>"
      ]
     },
     "metadata": {},
     "output_type": "display_data"
    }
   ],
   "source": [
    "fig = plt.gcf()\n",
    "fig.set_size_inches(18,6)\n",
    "plt.figure(1)\n",
    "plt.subplot(121) # numrows, numcols, fignum\n",
    "cindy['steps'].hist(bins=30)\n",
    "plt.title('Lifetime Step Distrubution for Cindy')\n",
    "plt.subplot(122)\n",
    "dane['steps'].hist(bins=30)\n",
    "plt.title('Lifetime Step Distrubution for Dane')\n",
    "plt.show()\n"
   ]
  },
  {
   "cell_type": "code",
   "execution_count": 36,
   "metadata": {
    "button": false,
    "collapsed": false,
    "new_sheet": false,
    "run_control": {
     "read_only": false
    }
   },
   "outputs": [
    {
     "data": {
      "image/png": "[encoded data removed]",
      "text/plain": [
       "<matplotlib.figure.Figure at 0x113030be0>"
      ]
     },
     "metadata": {},
     "output_type": "display_data"
    }
   ],
   "source": [
    "fig = plt.gcf()\n",
    "fig.set_size_inches(18,6)\n",
    "plt.figure(1)\n",
    "plt.subplot(121) # numrows, numcols, fignum\n",
    "cindy[cindy.year==2015]['steps'].hist(bins=30)\n",
    "plt.title('2015 Step Distrubution for Cindy')\n",
    "plt.subplot(122)\n",
    "dane[dane.year==2015]['steps'].hist(bins=30)\n",
    "plt.title('2015 Step Distrubution for Dane')\n",
    "plt.show()\n"
   ]
  },
  {
   "cell_type": "code",
   "execution_count": 37,
   "metadata": {
    "button": false,
    "collapsed": false,
    "deletable": true,
    "new_sheet": false,
    "run_control": {
     "read_only": false
    }
   },
   "outputs": [
    {
     "name": "stdout",
     "output_type": "stream",
     "text": [
      "Cindy\n",
      "  Average steps for 2013: 13,820\n",
      "  Average steps for 2014: 17,735\n",
      "  Average steps for 2015: 17,715\n",
      "Dane\n",
      "  Average steps for 2013: 13,691\n",
      "  Average steps for 2014: 18,049\n",
      "  Average steps for 2015: 17,234\n"
     ]
    }
   ],
   "source": [
    "# Basic Stats\n",
    "for n, i in [('Cindy', cindy), ('Dane', dane)]:\n",
    "    print('{}'.format(n.title()))\n",
    "    for y in [2013, 2014, 2015]:\n",
    "        d = i[i.year == y]\n",
    "        print('  Average steps for {}: {:,}'.format(y, int(np.average(d['steps']))))\n"
   ]
  },
  {
   "cell_type": "code",
   "execution_count": 56,
   "metadata": {
    "collapsed": false,
    "run_control": {}
   },
   "outputs": [
    {
     "name": "stdout",
     "output_type": "stream",
     "text": [
      "With 8,525.9 miles so far in 18,230,062 steps so far,\n",
      "Cindy has 3,150,068 steps left to get to 10K miles which will take an estimated 178 days\n"
     ]
    }
   ],
   "source": [
    "# estimate days remaining to 10K miles\n",
    "\n",
    "# use 2015 averages to compute steps_per_mile\n",
    "c15 = cindy[cindy.year == 2015]\n",
    "steps_per_mile = sum(c15.steps) / sum(c15.distance)\n",
    "steps_to_date = sum(cindy.steps)\n",
    "miles_to_date = round(sum(cindy.distance),1)\n",
    "steps_left = int((10000 - miles_to_date) * steps_per_mile)\n",
    "average_steps_per_day = 17700\n",
    "days_left = int(steps_left / average_steps_per_day + 0.5)\n",
    "print('With {:,} miles so far in {:,} steps,'.format(miles_to_date, steps_to_date))\n",
    "print('Cindy has {:,} steps left to get to 10K miles which will take an estimated {} days'.format(steps_left, days_left))"
   ]
  },
  {
   "cell_type": "code",
   "execution_count": null,
   "metadata": {
    "collapsed": true,
    "run_control": {}
   },
   "outputs": [],
   "source": []
  }
 ],
 "metadata": {
  "kernelspec": {
   "display_name": "Python 3",
   "language": "python",
   "name": "python3"
  },
  "language_info": {
   "codemirror_mode": {
    "name": "ipython",
    "version": 3
   },
   "file_extension": ".py",
   "mimetype": "text/x-python",
   "name": "python",
   "nbconvert_exporter": "python",
   "pygments_lexer": "ipython3",
   "version": "3.5.0"
  }
 },
 "nbformat": 4,
 "nbformat_minor": 0
}
