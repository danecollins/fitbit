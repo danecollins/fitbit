{
 "metadata": {
  "name": "",
  "signature": "sha256:584eca38d8b595cccd6684fa599275cde7a585ced0aa120d5bfe84e8d087d94f"
 },
 "nbformat": 3,
 "nbformat_minor": 0,
 "worksheets": [
  {
   "cells": [
    {
     "cell_type": "code",
     "collapsed": false,
     "input": [
      "import pandas as pd"
     ],
     "language": "python",
     "metadata": {},
     "outputs": [],
     "prompt_number": 4
    },
    {
     "cell_type": "code",
     "collapsed": false,
     "input": [
      "cd /Users/dane/src/fitbit"
     ],
     "language": "python",
     "metadata": {},
     "outputs": [
      {
       "output_type": "stream",
       "stream": "stdout",
       "text": [
        "/Users/dane/src/fitbit\n"
       ]
      }
     ],
     "prompt_number": 2
    },
    {
     "cell_type": "code",
     "collapsed": false,
     "input": [
      "fbdata=pd.read_csv('Q1.csv')"
     ],
     "language": "python",
     "metadata": {},
     "outputs": [],
     "prompt_number": 9
    },
    {
     "cell_type": "code",
     "collapsed": false,
     "input": [
      "fbdata.keys()"
     ],
     "language": "python",
     "metadata": {},
     "outputs": [
      {
       "metadata": {},
       "output_type": "pyout",
       "prompt_number": 13,
       "text": [
        "Index([u'distance', u'steps', u'weight', u'active1', u'active2', u'active3', u'sedentary', u'calories', u'actcal', u'biking', u'date', u'month', u'year', u'user'], dtype='object')"
       ]
      }
     ],
     "prompt_number": 13
    },
    {
     "cell_type": "code",
     "collapsed": false,
     "input": [
      "fbdata.tail()"
     ],
     "language": "python",
     "metadata": {},
     "outputs": [
      {
       "html": [
        "<div style=\"max-height:1000px;max-width:1500px;overflow:auto;\">\n",
        "<table border=\"1\" class=\"dataframe\">\n",
        "  <thead>\n",
        "    <tr style=\"text-align: right;\">\n",
        "      <th></th>\n",
        "      <th>distance</th>\n",
        "      <th>steps</th>\n",
        "      <th>weight</th>\n",
        "      <th>active1</th>\n",
        "      <th>active2</th>\n",
        "      <th>active3</th>\n",
        "      <th>sedentary</th>\n",
        "      <th>calories</th>\n",
        "      <th>actcal</th>\n",
        "      <th>biking</th>\n",
        "      <th>date</th>\n",
        "      <th>month</th>\n",
        "      <th>year</th>\n",
        "      <th>user</th>\n",
        "    </tr>\n",
        "  </thead>\n",
        "  <tbody>\n",
        "    <tr>\n",
        "      <th>85</th>\n",
        "      <td> 7.91</td>\n",
        "      <td> 16160</td>\n",
        "      <td> 156.3</td>\n",
        "      <td> 79</td>\n",
        "      <td> 145</td>\n",
        "      <td>  59</td>\n",
        "      <td> 1157</td>\n",
        "      <td> 2613</td>\n",
        "      <td> 1362</td>\n",
        "      <td> 0</td>\n",
        "      <td> 2015-03-27</td>\n",
        "      <td> 3</td>\n",
        "      <td> 2015</td>\n",
        "      <td> dane</td>\n",
        "    </tr>\n",
        "    <tr>\n",
        "      <th>86</th>\n",
        "      <td> 9.25</td>\n",
        "      <td> 18885</td>\n",
        "      <td> 157.0</td>\n",
        "      <td> 99</td>\n",
        "      <td> 145</td>\n",
        "      <td>  86</td>\n",
        "      <td> 1110</td>\n",
        "      <td> 2816</td>\n",
        "      <td> 1606</td>\n",
        "      <td> 0</td>\n",
        "      <td> 2015-03-28</td>\n",
        "      <td> 3</td>\n",
        "      <td> 2015</td>\n",
        "      <td> dane</td>\n",
        "    </tr>\n",
        "    <tr>\n",
        "      <th>87</th>\n",
        "      <td> 9.43</td>\n",
        "      <td> 19105</td>\n",
        "      <td>   0.0</td>\n",
        "      <td> 77</td>\n",
        "      <td>  95</td>\n",
        "      <td> 116</td>\n",
        "      <td> 1152</td>\n",
        "      <td> 2803</td>\n",
        "      <td> 1557</td>\n",
        "      <td> 0</td>\n",
        "      <td> 2015-03-29</td>\n",
        "      <td> 3</td>\n",
        "      <td> 2015</td>\n",
        "      <td> dane</td>\n",
        "    </tr>\n",
        "    <tr>\n",
        "      <th>88</th>\n",
        "      <td> 8.90</td>\n",
        "      <td> 18143</td>\n",
        "      <td>   0.0</td>\n",
        "      <td> 64</td>\n",
        "      <td> 109</td>\n",
        "      <td>  99</td>\n",
        "      <td> 1168</td>\n",
        "      <td> 2725</td>\n",
        "      <td> 1461</td>\n",
        "      <td> 0</td>\n",
        "      <td> 2015-03-30</td>\n",
        "      <td> 3</td>\n",
        "      <td> 2015</td>\n",
        "      <td> dane</td>\n",
        "    </tr>\n",
        "    <tr>\n",
        "      <th>89</th>\n",
        "      <td> 8.71</td>\n",
        "      <td> 17796</td>\n",
        "      <td> 157.1</td>\n",
        "      <td> 70</td>\n",
        "      <td> 151</td>\n",
        "      <td>  72</td>\n",
        "      <td> 1147</td>\n",
        "      <td> 2718</td>\n",
        "      <td> 1472</td>\n",
        "      <td> 0</td>\n",
        "      <td> 2015-03-31</td>\n",
        "      <td> 3</td>\n",
        "      <td> 2015</td>\n",
        "      <td> dane</td>\n",
        "    </tr>\n",
        "  </tbody>\n",
        "</table>\n",
        "</div>"
       ],
       "metadata": {},
       "output_type": "pyout",
       "prompt_number": 14,
       "text": [
        "    distance  steps  weight  active1  active2  active3  sedentary  calories  \\\n",
        "85      7.91  16160   156.3       79      145       59       1157      2613   \n",
        "86      9.25  18885   157.0       99      145       86       1110      2816   \n",
        "87      9.43  19105     0.0       77       95      116       1152      2803   \n",
        "88      8.90  18143     0.0       64      109       99       1168      2725   \n",
        "89      8.71  17796   157.1       70      151       72       1147      2718   \n",
        "\n",
        "    actcal  biking        date  month  year  user  \n",
        "85    1362       0  2015-03-27      3  2015  dane  \n",
        "86    1606       0  2015-03-28      3  2015  dane  \n",
        "87    1557       0  2015-03-29      3  2015  dane  \n",
        "88    1461       0  2015-03-30      3  2015  dane  \n",
        "89    1472       0  2015-03-31      3  2015  dane  "
       ]
      }
     ],
     "prompt_number": 14
    },
    {
     "cell_type": "code",
     "collapsed": false,
     "input": [
      "print('Average distance per day was {} miles'.format(average(fbdata['distance'])))"
     ],
     "language": "python",
     "metadata": {},
     "outputs": [
      {
       "output_type": "stream",
       "stream": "stdout",
       "text": [
        "Average distance per day was 8.83433333333 miles\n"
       ]
      }
     ],
     "prompt_number": 35
    },
    {
     "cell_type": "code",
     "collapsed": false,
     "input": [
      "print('The most steps in a day was: {}'.format(max(fbdata['steps'])))"
     ],
     "language": "python",
     "metadata": {},
     "outputs": [
      {
       "output_type": "stream",
       "stream": "stdout",
       "text": [
        "The most steps in a day was: 34321\n"
       ]
      }
     ],
     "prompt_number": 36
    },
    {
     "cell_type": "code",
     "collapsed": false,
     "input": [
      "# number of days with weight\n",
      "non_zero_days = [x for x in fbdata['weight'] if x!=0]\n",
      "print('Average weight over the quarter was: {}'.format(average(non_zero_days)))"
     ],
     "language": "python",
     "metadata": {},
     "outputs": [
      {
       "output_type": "stream",
       "stream": "stdout",
       "text": [
        "Average weight over the quarter was: 157.436734694\n"
       ]
      }
     ],
     "prompt_number": 32
    },
    {
     "cell_type": "code",
     "collapsed": false,
     "input": [
      "print('Weight range over the month: {}'.format(max(non_zero_days)-min(non_zero_days)))"
     ],
     "language": "python",
     "metadata": {},
     "outputs": [
      {
       "output_type": "stream",
       "stream": "stdout",
       "text": [
        "Weight range over the month: 4.8\n"
       ]
      }
     ],
     "prompt_number": 33
    },
    {
     "cell_type": "code",
     "collapsed": false,
     "input": [],
     "language": "python",
     "metadata": {},
     "outputs": []
    },
    {
     "cell_type": "code",
     "collapsed": false,
     "input": [],
     "language": "python",
     "metadata": {},
     "outputs": []
    },
    {
     "cell_type": "code",
     "collapsed": false,
     "input": [],
     "language": "python",
     "metadata": {},
     "outputs": []
    },
    {
     "cell_type": "code",
     "collapsed": false,
     "input": [],
     "language": "python",
     "metadata": {},
     "outputs": []
    },
    {
     "cell_type": "code",
     "collapsed": false,
     "input": [],
     "language": "python",
     "metadata": {},
     "outputs": []
    },
    {
     "cell_type": "code",
     "collapsed": false,
     "input": [],
     "language": "python",
     "metadata": {},
     "outputs": []
    },
    {
     "cell_type": "code",
     "collapsed": false,
     "input": [],
     "language": "python",
     "metadata": {},
     "outputs": []
    },
    {
     "cell_type": "code",
     "collapsed": false,
     "input": [],
     "language": "python",
     "metadata": {},
     "outputs": []
    },
    {
     "cell_type": "code",
     "collapsed": false,
     "input": [
      "# compute average per month\n",
      "for i in range(1,4):\n",
      "    print('average for month {} is {}'.format(i,average(fbdata[fbdata.month==i]['steps'])))"
     ],
     "language": "python",
     "metadata": {},
     "outputs": [
      {
       "output_type": "stream",
       "stream": "stdout",
       "text": [
        "average for month 1 is 18267.2580645\n",
        "average for month 2 is 19052.2142857\n",
        "average for month 3 is 16841.5806452\n"
       ]
      }
     ],
     "prompt_number": 26
    },
    {
     "cell_type": "code",
     "collapsed": false,
     "input": [],
     "language": "python",
     "metadata": {},
     "outputs": []
    },
    {
     "cell_type": "code",
     "collapsed": false,
     "input": [],
     "language": "python",
     "metadata": {},
     "outputs": []
    },
    {
     "cell_type": "code",
     "collapsed": false,
     "input": [],
     "language": "python",
     "metadata": {},
     "outputs": []
    },
    {
     "cell_type": "code",
     "collapsed": false,
     "input": [],
     "language": "python",
     "metadata": {},
     "outputs": []
    },
    {
     "cell_type": "code",
     "collapsed": false,
     "input": [],
     "language": "python",
     "metadata": {},
     "outputs": []
    },
    {
     "cell_type": "code",
     "collapsed": false,
     "input": [],
     "language": "python",
     "metadata": {},
     "outputs": []
    },
    {
     "cell_type": "code",
     "collapsed": false,
     "input": [],
     "language": "python",
     "metadata": {},
     "outputs": []
    },
    {
     "cell_type": "code",
     "collapsed": false,
     "input": [
      "fbdata['steps']"
     ],
     "language": "python",
     "metadata": {},
     "outputs": [
      {
       "metadata": {},
       "output_type": "pyout",
       "prompt_number": 17,
       "text": [
        "0     17393\n",
        "1     19283\n",
        "2     17724\n",
        "3     19018\n",
        "4     15800\n",
        "5     17372\n",
        "6     15339\n",
        "7     18365\n",
        "8     14600\n",
        "9     15319\n",
        "10    24255\n",
        "11    28543\n",
        "12    20759\n",
        "13    13013\n",
        "14    18087\n",
        "...\n",
        "75    15513\n",
        "76    15744\n",
        "77    12841\n",
        "78    22817\n",
        "79    22985\n",
        "80    22865\n",
        "81    22852\n",
        "82    18351\n",
        "83    23010\n",
        "84    21224\n",
        "85    16160\n",
        "86    18885\n",
        "87    19105\n",
        "88    18143\n",
        "89    17796\n",
        "Name: steps, Length: 90, dtype: int64"
       ]
      }
     ],
     "prompt_number": 17
    },
    {
     "cell_type": "code",
     "collapsed": false,
     "input": [],
     "language": "python",
     "metadata": {},
     "outputs": []
    },
    {
     "cell_type": "code",
     "collapsed": false,
     "input": [],
     "language": "python",
     "metadata": {},
     "outputs": []
    },
    {
     "cell_type": "code",
     "collapsed": false,
     "input": [],
     "language": "python",
     "metadata": {},
     "outputs": []
    },
    {
     "cell_type": "code",
     "collapsed": false,
     "input": [],
     "language": "python",
     "metadata": {},
     "outputs": []
    },
    {
     "cell_type": "code",
     "collapsed": false,
     "input": [],
     "language": "python",
     "metadata": {},
     "outputs": []
    },
    {
     "cell_type": "code",
     "collapsed": false,
     "input": [],
     "language": "python",
     "metadata": {},
     "outputs": []
    },
    {
     "cell_type": "code",
     "collapsed": false,
     "input": [],
     "language": "python",
     "metadata": {},
     "outputs": []
    },
    {
     "cell_type": "code",
     "collapsed": false,
     "input": [],
     "language": "python",
     "metadata": {},
     "outputs": []
    },
    {
     "cell_type": "code",
     "collapsed": false,
     "input": [],
     "language": "python",
     "metadata": {},
     "outputs": []
    }
   ],
   "metadata": {}
  }
 ]
}