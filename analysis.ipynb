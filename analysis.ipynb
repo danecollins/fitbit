{
 "cells": [
  {
   "cell_type": "markdown",
   "metadata": {},
   "source": [
    "# Analyzing Fitbit Data in iPython\n",
    "\n",
    "Using the Fitbit Python library I downloaded the Fitbit activity, calorie and weight data. This notebook then analyzes the data as a way to learn about iPython."
   ]
  },
  {
   "cell_type": "code",
   "execution_count": 41,
   "metadata": {
    "collapsed": false
   },
   "outputs": [
    {
     "name": "stdout",
     "output_type": "stream",
     "text": [
      "/Users/dane/src/fitbit\n"
     ]
    }
   ],
   "source": [
    "# This is required to get plots to display inline\n",
    "%matplotlib inline\n",
    "# Additional setup\n",
    "%cd /Users/dane/src/fitbit\n",
    "import pandas as pd\n",
    "import numpy as np\n",
    "import matplotlib.pyplot as plt\n",
    "fbdata=pd.read_csv('/Users/dane/Dropbox/Work/datafiles/fitbit_data.csv')"
   ]
  },
  {
   "cell_type": "code",
   "execution_count": 42,
   "metadata": {
    "collapsed": false
   },
   "outputs": [
    {
     "data": {
      "text/plain": [
       "Index(['distance', 'steps', 'weight', 'active1', 'active2', 'active3',\n",
       "       'sedentary', 'calories', 'actcal', 'biking', 'date', 'month', 'year',\n",
       "       'user'],\n",
       "      dtype='object')"
      ]
     },
     "execution_count": 42,
     "metadata": {},
     "output_type": "execute_result"
    }
   ],
   "source": [
    "fbdata.keys()"
   ]
  },
  {
   "cell_type": "code",
   "execution_count": 43,
   "metadata": {
    "collapsed": false
   },
   "outputs": [
    {
     "data": {
      "text/html": [
       "<div style=\"max-height:1000px;max-width:1500px;overflow:auto;\">\n",
       "<table border=\"1\" class=\"dataframe\">\n",
       "  <thead>\n",
       "    <tr style=\"text-align: right;\">\n",
       "      <th></th>\n",
       "      <th>distance</th>\n",
       "      <th>steps</th>\n",
       "      <th>weight</th>\n",
       "      <th>active1</th>\n",
       "      <th>active2</th>\n",
       "      <th>active3</th>\n",
       "      <th>sedentary</th>\n",
       "      <th>calories</th>\n",
       "      <th>actcal</th>\n",
       "      <th>biking</th>\n",
       "      <th>date</th>\n",
       "      <th>month</th>\n",
       "      <th>year</th>\n",
       "      <th>user</th>\n",
       "    </tr>\n",
       "  </thead>\n",
       "  <tbody>\n",
       "    <tr>\n",
       "      <th>2139</th>\n",
       "      <td>10.74</td>\n",
       "      <td>22410</td>\n",
       "      <td>0</td>\n",
       "      <td>143</td>\n",
       "      <td>126</td>\n",
       "      <td>44</td>\n",
       "      <td>1127</td>\n",
       "      <td>2197</td>\n",
       "      <td>1195</td>\n",
       "      <td>0</td>\n",
       "      <td>2015-10-27</td>\n",
       "      <td>10</td>\n",
       "      <td>2015</td>\n",
       "      <td>cindy</td>\n",
       "    </tr>\n",
       "    <tr>\n",
       "      <th>2140</th>\n",
       "      <td>7.80</td>\n",
       "      <td>16636</td>\n",
       "      <td>0</td>\n",
       "      <td>142</td>\n",
       "      <td>76</td>\n",
       "      <td>55</td>\n",
       "      <td>1167</td>\n",
       "      <td>2042</td>\n",
       "      <td>1004</td>\n",
       "      <td>0</td>\n",
       "      <td>2015-10-28</td>\n",
       "      <td>10</td>\n",
       "      <td>2015</td>\n",
       "      <td>cindy</td>\n",
       "    </tr>\n",
       "    <tr>\n",
       "      <th>2141</th>\n",
       "      <td>9.39</td>\n",
       "      <td>20031</td>\n",
       "      <td>0</td>\n",
       "      <td>101</td>\n",
       "      <td>122</td>\n",
       "      <td>49</td>\n",
       "      <td>1168</td>\n",
       "      <td>2073</td>\n",
       "      <td>1035</td>\n",
       "      <td>0</td>\n",
       "      <td>2015-10-29</td>\n",
       "      <td>10</td>\n",
       "      <td>2015</td>\n",
       "      <td>cindy</td>\n",
       "    </tr>\n",
       "    <tr>\n",
       "      <th>2142</th>\n",
       "      <td>9.56</td>\n",
       "      <td>20506</td>\n",
       "      <td>0</td>\n",
       "      <td>222</td>\n",
       "      <td>109</td>\n",
       "      <td>50</td>\n",
       "      <td>1059</td>\n",
       "      <td>2290</td>\n",
       "      <td>1349</td>\n",
       "      <td>0</td>\n",
       "      <td>2015-10-30</td>\n",
       "      <td>10</td>\n",
       "      <td>2015</td>\n",
       "      <td>cindy</td>\n",
       "    </tr>\n",
       "    <tr>\n",
       "      <th>2143</th>\n",
       "      <td>14.52</td>\n",
       "      <td>31157</td>\n",
       "      <td>0</td>\n",
       "      <td>174</td>\n",
       "      <td>160</td>\n",
       "      <td>85</td>\n",
       "      <td>1021</td>\n",
       "      <td>2577</td>\n",
       "      <td>1670</td>\n",
       "      <td>0</td>\n",
       "      <td>2015-10-31</td>\n",
       "      <td>10</td>\n",
       "      <td>2015</td>\n",
       "      <td>cindy</td>\n",
       "    </tr>\n",
       "  </tbody>\n",
       "</table>\n",
       "</div>"
      ],
      "text/plain": [
       "      distance  steps  weight  active1  active2  active3  sedentary  calories  \\\n",
       "2139     10.74  22410       0      143      126       44       1127      2197   \n",
       "2140      7.80  16636       0      142       76       55       1167      2042   \n",
       "2141      9.39  20031       0      101      122       49       1168      2073   \n",
       "2142      9.56  20506       0      222      109       50       1059      2290   \n",
       "2143     14.52  31157       0      174      160       85       1021      2577   \n",
       "\n",
       "      actcal  biking        date  month  year   user  \n",
       "2139    1195       0  2015-10-27     10  2015  cindy  \n",
       "2140    1004       0  2015-10-28     10  2015  cindy  \n",
       "2141    1035       0  2015-10-29     10  2015  cindy  \n",
       "2142    1349       0  2015-10-30     10  2015  cindy  \n",
       "2143    1670       0  2015-10-31     10  2015  cindy  "
      ]
     },
     "execution_count": 43,
     "metadata": {},
     "output_type": "execute_result"
    }
   ],
   "source": [
    "fbdata.tail()"
   ]
  },
  {
   "cell_type": "code",
   "execution_count": 44,
   "metadata": {
    "collapsed": false
   },
   "outputs": [
    {
     "name": "stdout",
     "output_type": "stream",
     "text": [
      "Average distance per day was 7.741214409981344 miles\n"
     ]
    }
   ],
   "source": [
    "print('Average distance per day was {} miles'.format(np.average(fbdata['distance'])))"
   ]
  },
  {
   "cell_type": "code",
   "execution_count": 45,
   "metadata": {
    "collapsed": false
   },
   "outputs": [
    {
     "name": "stdout",
     "output_type": "stream",
     "text": [
      "The most steps in a day was: 44847\n"
     ]
    }
   ],
   "source": [
    "print('The most steps in a day was: {}'.format(max(fbdata['steps'])))"
   ]
  },
  {
   "cell_type": "code",
   "execution_count": 46,
   "metadata": {
    "collapsed": false
   },
   "outputs": [
    {
     "name": "stdout",
     "output_type": "stream",
     "text": [
      "Average weight over the quarter was: 149.66454901960785\n"
     ]
    }
   ],
   "source": [
    "# number of days with weight\n",
    "non_zero_days = [x for x in fbdata['weight'] if x!=0]\n",
    "print('Average weight over the quarter was: {}'.format(np.average(non_zero_days)))"
   ]
  },
  {
   "cell_type": "code",
   "execution_count": 47,
   "metadata": {
    "collapsed": false
   },
   "outputs": [
    {
     "name": "stdout",
     "output_type": "stream",
     "text": [
      "Weight range over the month: 60.599999999999994\n"
     ]
    }
   ],
   "source": [
    "print('Weight range over the month: {}'.format(max(non_zero_days)-min(non_zero_days)))"
   ]
  },
  {
   "cell_type": "code",
   "execution_count": 48,
   "metadata": {
    "collapsed": false
   },
   "outputs": [
    {
     "name": "stdout",
     "output_type": "stream",
     "text": [
      "Cindy\n",
      "  Average steps: 16,360\n",
      "  Total steps: 17,161,838\n",
      "Dane\n",
      "  Average steps: 16,076\n",
      "  Total steps: 17,603,387\n"
     ]
    }
   ],
   "source": [
    "# Basic Stats\n",
    "for i in ['cindy', 'dane']:\n",
    "    print('{}'.format(i.title()))\n",
    "    d = fbdata[fbdata.user == i]\n",
    "    print('  Average steps: {:,}'.format(int(np.average(d['steps']))))\n",
    "    print('  Total steps: {:,}'.format(sum(d['steps'])))\n",
    "    #print('Average for month {} is {}'.format(i,np.average(fbdata[fbdata.month==i]['steps'])))"
   ]
  },
  {
   "cell_type": "code",
   "execution_count": 49,
   "metadata": {
    "collapsed": false
   },
   "outputs": [
    {
     "data": {
      "image/png": "[encoded data removed]",
      "text/plain": [
       "<matplotlib.figure.Figure at 0x1087e4f98>"
      ]
     },
     "metadata": {},
     "output_type": "display_data"
    }
   ],
   "source": [
    "fig = plt.gcf()\n",
    "fig.set_size_inches(18,6)\n",
    "plt.figure(1)\n",
    "plt.subplot(121) # numrows, numcols, fignum\n",
    "fbdata[fbdata.user == 'cindy']['steps'].hist(bins=30)\n",
    "plt.title('Cindy')\n",
    "plt.subplot(122)\n",
    "fbdata[fbdata.user == 'dane']['steps'].hist(bins=30)\n",
    "plt.title('Dane')\n",
    "plt.show()\n"
   ]
  },
  {
   "cell_type": "code",
   "execution_count": 50,
   "metadata": {
    "collapsed": false
   },
   "outputs": [
    {
     "name": "stdout",
     "output_type": "stream",
     "text": [
      "Cindy\n",
      "  Average steps for 2013: 13,896\n",
      "  Average steps for 2014: 17,735\n",
      "  Average steps for 2015: 17,756\n",
      "Dane\n",
      "  Average steps for 2013: 13,691\n",
      "  Average steps for 2014: 18,049\n",
      "  Average steps for 2015: 17,436\n"
     ]
    }
   ],
   "source": [
    "# Basic Stats\n",
    "for u in ['cindy', 'dane']:\n",
    "    print('{}'.format(u.title()))\n",
    "    for y in [2013, 2014, 2015]:\n",
    "        d = fbdata[(fbdata.user == u) & (fbdata.year == y)]\n",
    "        print('  Average steps for {}: {:,}'.format(y, int(np.average(d['steps']))))\n"
   ]
  }
 ],
 "metadata": {
  "kernelspec": {
   "display_name": "Python 3",
   "language": "python",
   "name": "python3"
  },
  "language_info": {
   "codemirror_mode": {
    "name": "ipython",
    "version": 3
   },
   "file_extension": ".py",
   "mimetype": "text/x-python",
   "name": "python",
   "nbconvert_exporter": "python",
   "pygments_lexer": "ipython3",
   "version": "3.4.1"
  }
 },
 "nbformat": 4,
 "nbformat_minor": 0
}
