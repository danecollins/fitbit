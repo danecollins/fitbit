{
 "cells": [
  {
   "cell_type": "markdown",
   "metadata": {
    "button": false,
    "new_sheet": false,
    "run_control": {
     "read_only": false
    }
   },
   "source": [
    "# Analyzing Fitbit Data in iPython\n",
    "\n",
    "Using the Fitbit Python library I downloaded the Fitbit activity, calorie and weight data. This notebook then analyzes the data as a way to learn about iPython."
   ]
  },
  {
   "cell_type": "code",
   "execution_count": 4,
   "metadata": {
    "button": false,
    "new_sheet": false,
    "run_control": {
     "read_only": false
    }
   },
   "outputs": [
    {
     "name": "stdout",
     "output_type": "stream",
     "text": [
      "/Users/dane/src/fitbit\n"
     ]
    },
    {
     "data": {
      "text/html": [
       "<div>\n",
       "<style>\n",
       "    .dataframe thead tr:only-child th {\n",
       "        text-align: right;\n",
       "    }\n",
       "\n",
       "    .dataframe thead th {\n",
       "        text-align: left;\n",
       "    }\n",
       "\n",
       "    .dataframe tbody tr th {\n",
       "        vertical-align: top;\n",
       "    }\n",
       "</style>\n",
       "<table border=\"1\" class=\"dataframe\">\n",
       "  <thead>\n",
       "    <tr style=\"text-align: right;\">\n",
       "      <th></th>\n",
       "      <th>date</th>\n",
       "      <th>user</th>\n",
       "      <th>actcal</th>\n",
       "      <th>active1</th>\n",
       "      <th>active2</th>\n",
       "      <th>active3</th>\n",
       "      <th>calories</th>\n",
       "      <th>date.1</th>\n",
       "      <th>distance</th>\n",
       "      <th>elevation</th>\n",
       "      <th>floors</th>\n",
       "      <th>margcal</th>\n",
       "      <th>sedentary</th>\n",
       "      <th>steps</th>\n",
       "      <th>weight</th>\n",
       "    </tr>\n",
       "  </thead>\n",
       "  <tbody>\n",
       "    <tr>\n",
       "      <th>0</th>\n",
       "      <td>2012-12-15</td>\n",
       "      <td>cindy</td>\n",
       "      <td>1110</td>\n",
       "      <td>117</td>\n",
       "      <td>94</td>\n",
       "      <td>61</td>\n",
       "      <td>2224</td>\n",
       "      <td>2012-12-15</td>\n",
       "      <td>8.28</td>\n",
       "      <td>220</td>\n",
       "      <td>22</td>\n",
       "      <td>689</td>\n",
       "      <td>669</td>\n",
       "      <td>17442</td>\n",
       "      <td>153.0</td>\n",
       "    </tr>\n",
       "    <tr>\n",
       "      <th>1</th>\n",
       "      <td>2012-12-16</td>\n",
       "      <td>cindy</td>\n",
       "      <td>1524</td>\n",
       "      <td>185</td>\n",
       "      <td>128</td>\n",
       "      <td>75</td>\n",
       "      <td>2529</td>\n",
       "      <td>2012-12-16</td>\n",
       "      <td>10.94</td>\n",
       "      <td>250</td>\n",
       "      <td>25</td>\n",
       "      <td>922</td>\n",
       "      <td>1052</td>\n",
       "      <td>23434</td>\n",
       "      <td>0.0</td>\n",
       "    </tr>\n",
       "    <tr>\n",
       "      <th>2</th>\n",
       "      <td>2012-12-17</td>\n",
       "      <td>cindy</td>\n",
       "      <td>865</td>\n",
       "      <td>158</td>\n",
       "      <td>89</td>\n",
       "      <td>19</td>\n",
       "      <td>1988</td>\n",
       "      <td>2012-12-17</td>\n",
       "      <td>5.84</td>\n",
       "      <td>20</td>\n",
       "      <td>2</td>\n",
       "      <td>450</td>\n",
       "      <td>1174</td>\n",
       "      <td>12473</td>\n",
       "      <td>153.9</td>\n",
       "    </tr>\n",
       "    <tr>\n",
       "      <th>3</th>\n",
       "      <td>2012-12-18</td>\n",
       "      <td>cindy</td>\n",
       "      <td>1129</td>\n",
       "      <td>198</td>\n",
       "      <td>122</td>\n",
       "      <td>22</td>\n",
       "      <td>2178</td>\n",
       "      <td>2012-12-18</td>\n",
       "      <td>6.15</td>\n",
       "      <td>60</td>\n",
       "      <td>6</td>\n",
       "      <td>582</td>\n",
       "      <td>1098</td>\n",
       "      <td>13202</td>\n",
       "      <td>153.5</td>\n",
       "    </tr>\n",
       "    <tr>\n",
       "      <th>4</th>\n",
       "      <td>2012-12-19</td>\n",
       "      <td>cindy</td>\n",
       "      <td>918</td>\n",
       "      <td>217</td>\n",
       "      <td>71</td>\n",
       "      <td>16</td>\n",
       "      <td>2003</td>\n",
       "      <td>2012-12-19</td>\n",
       "      <td>5.79</td>\n",
       "      <td>0</td>\n",
       "      <td>0</td>\n",
       "      <td>447</td>\n",
       "      <td>1136</td>\n",
       "      <td>12330</td>\n",
       "      <td>153.4</td>\n",
       "    </tr>\n",
       "  </tbody>\n",
       "</table>\n",
       "</div>"
      ],
      "text/plain": [
       "         date    user  actcal  active1  active2  active3  calories  \\\n",
       "0  2012-12-15   cindy    1110      117       94       61      2224   \n",
       "1  2012-12-16   cindy    1524      185      128       75      2529   \n",
       "2  2012-12-17   cindy     865      158       89       19      1988   \n",
       "3  2012-12-18   cindy    1129      198      122       22      2178   \n",
       "4  2012-12-19   cindy     918      217       71       16      2003   \n",
       "\n",
       "        date.1  distance elevation floors  margcal  sedentary  steps  weight  \n",
       "0   2012-12-15      8.28       220     22      689        669  17442   153.0  \n",
       "1   2012-12-16     10.94       250     25      922       1052  23434     0.0  \n",
       "2   2012-12-17      5.84        20      2      450       1174  12473   153.9  \n",
       "3   2012-12-18      6.15        60      6      582       1098  13202   153.5  \n",
       "4   2012-12-19      5.79         0      0      447       1136  12330   153.4  "
      ]
     },
     "execution_count": 4,
     "metadata": {},
     "output_type": "execute_result"
    }
   ],
   "source": [
    "# This is required to get plots to display inline\n",
    "%matplotlib inline\n",
    "# Additional setup\n",
    "%cd /Users/dane/src/fitbit\n",
    "import pandas as pd\n",
    "import numpy as np\n",
    "import matplotlib.pyplot as plt\n",
    "dane=pd.read_csv('dane.csv')\n",
    "cindy=pd.read_csv('cindy.csv')\n",
    "cindy.head()"
   ]
  },
  {
   "cell_type": "code",
   "execution_count": 5,
   "metadata": {
    "button": false,
    "new_sheet": false,
    "run_control": {
     "read_only": false
    }
   },
   "outputs": [
    {
     "name": "stdout",
     "output_type": "stream",
     "text": [
      "Average distance per day was 8.2/8.1 miles for dane/cindy\n"
     ]
    }
   ],
   "source": [
    "print('Average distance per day was {:3.1f}/{:3.1f} miles for dane/cindy'.format(np.average(dane['distance']),np.average(cindy['distance'])))"
   ]
  },
  {
   "cell_type": "code",
   "execution_count": 6,
   "metadata": {
    "button": false,
    "new_sheet": false,
    "run_control": {
     "read_only": false
    }
   },
   "outputs": [
    {
     "name": "stdout",
     "output_type": "stream",
     "text": [
      "The most steps in a day was: 43958/44847 for dane/cindy\n"
     ]
    }
   ],
   "source": [
    "print('The most steps in a day was: {}/{} for dane/cindy'.format(max(dane['steps']), max(cindy['steps'])))"
   ]
  },
  {
   "cell_type": "code",
   "execution_count": 7,
   "metadata": {
    "button": false,
    "new_sheet": false,
    "run_control": {
     "read_only": false
    }
   },
   "outputs": [
    {
     "name": "stdout",
     "output_type": "stream",
     "text": [
      "Cindy\n",
      "  Average steps: 17,326\n",
      "  Total steps: 30,615,872\n",
      "  Total distance: 14,348\n",
      "Dane\n",
      "  Average steps: 16,834\n",
      "  Total steps: 30,504,891\n",
      "  Total distance: 14,785\n"
     ]
    }
   ],
   "source": [
    "# Basic Stats\n",
    "for n, i in [('Cindy', cindy), ('Dane', dane)]:\n",
    "    print('{}'.format(n.title()))\n",
    "    print('  Average steps: {:,}'.format(int(i.steps.mean())))\n",
    "    print('  Total steps: {:,}'.format(i.steps.sum()))\n",
    "    print('  Total distance: {:,}'.format(int(i.distance.sum())))\n",
    "    "
   ]
  },
  {
   "cell_type": "code",
   "execution_count": 8,
   "metadata": {},
   "outputs": [
    {
     "data": {
      "text/plain": [
       "2133.7337170461992"
      ]
     },
     "execution_count": 8,
     "metadata": {},
     "output_type": "execute_result"
    }
   ],
   "source": [
    "cindy.steps.sum()/cindy.distance.sum()"
   ]
  },
  {
   "cell_type": "code",
   "execution_count": 9,
   "metadata": {},
   "outputs": [
    {
     "data": {
      "text/plain": [
       "2063.1880823460988"
      ]
     },
     "execution_count": 9,
     "metadata": {},
     "output_type": "execute_result"
    }
   ],
   "source": [
    "dane.steps.sum()/dane.distance.sum()"
   ]
  },
  {
   "cell_type": "code",
   "execution_count": 10,
   "metadata": {
    "button": false,
    "new_sheet": false,
    "run_control": {
     "read_only": false
    }
   },
   "outputs": [
    {
     "data": {
      "image/png": "[encoded data removed]",
      "text/plain": [
       "<matplotlib.figure.Figure at 0x1110a1828>"
      ]
     },
     "metadata": {},
     "output_type": "display_data"
    }
   ],
   "source": [
    "fig = plt.gcf()\n",
    "fig.set_size_inches(18,6)\n",
    "plt.figure(1)\n",
    "plt.subplot(121) # numrows, numcols, fignum\n",
    "cindy['steps'].hist(bins=30)\n",
    "plt.title('Lifetime Step Distrubution for Cindy')\n",
    "plt.subplot(122)\n",
    "dane['steps'].hist(bins=30)\n",
    "plt.title('Lifetime Step Distrubution for Dane')\n",
    "plt.show()"
   ]
  },
  {
   "cell_type": "code",
   "execution_count": 16,
   "metadata": {},
   "outputs": [],
   "source": [
    "cindy['year'] = cindy.date.apply(lambda x: int(x[0:4]))\n",
    "dane['year'] = dane.date.apply(lambda x: int(x[0:4]))"
   ]
  },
  {
   "cell_type": "code",
   "execution_count": 17,
   "metadata": {
    "button": false,
    "new_sheet": false,
    "run_control": {
     "read_only": false
    }
   },
   "outputs": [
    {
     "data": {
      "image/png": "[encoded data removed]",
      "text/plain": [
       "<matplotlib.figure.Figure at 0x111fa7f60>"
      ]
     },
     "metadata": {},
     "output_type": "display_data"
    }
   ],
   "source": [
    "fig = plt.gcf()\n",
    "fig.set_size_inches(18,6)\n",
    "plt.figure(1)\n",
    "plt.subplot(121) # numrows, numcols, fignum\n",
    "cindy[cindy.year==2017]['steps'].hist(bins=30)\n",
    "plt.title('2017 Step Distrubution for Cindy')\n",
    "plt.subplot(122)\n",
    "dane[dane.year==2017]['steps'].hist(bins=30)\n",
    "plt.title('2017 Step Distrubution for Dane')\n",
    "plt.show()\n"
   ]
  },
  {
   "cell_type": "code",
   "execution_count": 18,
   "metadata": {
    "button": false,
    "new_sheet": false,
    "run_control": {
     "read_only": false
    }
   },
   "outputs": [
    {
     "name": "stdout",
     "output_type": "stream",
     "text": [
      "Cindy\n",
      "  Average steps for 2013: 13,820\n",
      "  Average steps for 2014: 17,735\n",
      "  Average steps for 2015: 17,715\n",
      "  Average steps for 2016: 19,002\n",
      "  Average steps for 2017: 18,791\n",
      "Dane\n",
      "  Average steps for 2013: 13,691\n",
      "  Average steps for 2014: 18,049\n",
      "  Average steps for 2015: 17,243\n",
      "  Average steps for 2016: 18,021\n",
      "  Average steps for 2017: 18,318\n"
     ]
    }
   ],
   "source": [
    "# Basic Stats\n",
    "for n, i in [('Cindy', cindy), ('Dane', dane)]:\n",
    "    print('{}'.format(n.title()))\n",
    "    for y in [2013, 2014, 2015, 2016, 2017]:\n",
    "        d = i[i.year == y]\n",
    "        print('  Average steps for {}: {:,}'.format(y, int(d['steps'].mean())))\n"
   ]
  },
  {
   "cell_type": "code",
   "execution_count": 20,
   "metadata": {
    "button": false,
    "new_sheet": false,
    "run_control": {
     "read_only": false
    }
   },
   "outputs": [
    {
     "data": {
      "text/plain": [
       "'2017-01-01'"
      ]
     },
     "execution_count": 20,
     "metadata": {},
     "output_type": "execute_result"
    }
   ],
   "source": [
    "min(cindy16.date)"
   ]
  },
  {
   "cell_type": "code",
   "execution_count": 24,
   "metadata": {
    "button": false,
    "new_sheet": false,
    "run_control": {
     "read_only": false
    }
   },
   "outputs": [
    {
     "data": {
      "text/plain": [
       "<matplotlib.axes._subplots.AxesSubplot at 0x113f51f28>"
      ]
     },
     "execution_count": 24,
     "metadata": {},
     "output_type": "execute_result"
    },
    {
     "data": {
      "image/png": "[encoded data removed]",
      "text/plain": [
       "<matplotlib.figure.Figure at 0x110ae4d30>"
      ]
     },
     "metadata": {},
     "output_type": "display_data"
    }
   ],
   "source": [
    "cindy_y = dane[i.year==2015]\n",
    "ou = (cindy_y.steps - 14000)/1000\n",
    "fig = plt.gcf()\n",
    "fig.set_size_inches(20,3)\n",
    "ou.plot(kind='bar')\n"
   ]
  },
  {
   "cell_type": "code",
   "execution_count": 26,
   "metadata": {
    "button": false,
    "new_sheet": false,
    "run_control": {
     "read_only": false
    }
   },
   "outputs": [
    {
     "data": {
      "text/plain": [
       "<matplotlib.axes._subplots.AxesSubplot at 0x114ba8d68>"
      ]
     },
     "execution_count": 26,
     "metadata": {},
     "output_type": "execute_result"
    },
    {
     "data": {
      "image/png": "[encoded data removed]",
      "text/plain": [
       "<matplotlib.figure.Figure at 0x1137e4d30>"
      ]
     },
     "metadata": {},
     "output_type": "display_data"
    }
   ],
   "source": [
    "dane16 = dane[i.year==2017]\n",
    "ou = (dane16.steps - 15000)/1000\n",
    "fig = plt.gcf()\n",
    "fig.set_size_inches(22,3)\n",
    "ou.plot(kind='bar')"
   ]
  },
  {
   "cell_type": "code",
   "execution_count": 35,
   "metadata": {
    "button": false,
    "new_sheet": false,
    "run_control": {
     "read_only": false
    }
   },
   "outputs": [],
   "source": [
    "cindy['reached_goal'] = 0\n",
    "cindy.loc[(cindy.steps - 14000) > 0, 'reached_goal'] = 1\n",
    "dane['reached_goal'] = 0\n",
    "dane.loc[(dane.steps - 15000) > 0, 'reached_goal'] = 1"
   ]
  },
  {
   "cell_type": "code",
   "execution_count": 41,
   "metadata": {
    "button": false,
    "new_sheet": false,
    "run_control": {
     "read_only": false
    }
   },
   "outputs": [],
   "source": [
    "cindy['month'] = cindy.date.apply(lambda x: int(x[5:7]))"
   ]
  },
  {
   "cell_type": "code",
   "execution_count": 44,
   "metadata": {},
   "outputs": [
    {
     "data": {
      "text/plain": [
       "'2017-10-31'"
      ]
     },
     "execution_count": 44,
     "metadata": {},
     "output_type": "execute_result"
    }
   ],
   "source": [
    "cindy[cindy.year == 2017].date.max()"
   ]
  },
  {
   "cell_type": "code",
   "execution_count": 107,
   "metadata": {
    "button": false,
    "new_sheet": false,
    "run_control": {
     "read_only": false
    }
   },
   "outputs": [
    {
     "data": {
      "image/png": "[encoded data removed]",
      "text/plain": [
       "<matplotlib.figure.Figure at 0x10fa15da0>"
      ]
     },
     "metadata": {},
     "output_type": "display_data"
    }
   ],
   "source": [
    "fig = plt.gcf()\n",
    "fig.set_size_inches(18,6)\n",
    "plt.figure(1)\n",
    "plt.subplot(411)\n",
    "cindy16.index=pd.to_datetime(x.date,format='%Y-%m-%d')\n",
    "plt.bar(cindy16.index, cindy16.goalmet, color='hotpink')\n",
    "plt.yticks([-1.1,1.1])\n",
    "plt.show()"
   ]
  },
  {
   "cell_type": "code",
   "execution_count": 114,
   "metadata": {
    "button": false,
    "new_sheet": false,
    "run_control": {
     "read_only": false
    }
   },
   "outputs": [
    {
     "data": {
      "image/png": "[encoded data removed]",
      "text/plain": [
       "<matplotlib.figure.Figure at 0x10fa34dd8>"
      ]
     },
     "metadata": {},
     "output_type": "display_data"
    }
   ],
   "source": [
    "fig = plt.gcf()\n",
    "fig.set_size_inches(18,6)\n",
    "plt.figure(1)\n",
    "plt.subplot(411)\n",
    "dane16.index=pd.to_datetime(dane16.date,format='%Y-%m-%d')\n",
    "plt.bar(dane16.index, dane16.goalmet, color='blue')\n",
    "plt.yticks([-1.1,1.1])\n",
    "plt.show()"
   ]
  },
  {
   "cell_type": "code",
   "execution_count": 115,
   "metadata": {
    "button": false,
    "new_sheet": false,
    "run_control": {
     "read_only": false
    }
   },
   "outputs": [
    {
     "data": {
      "text/plain": [
       "Timestamp('2016-01-01 00:00:00')"
      ]
     },
     "execution_count": 115,
     "metadata": {},
     "output_type": "execute_result"
    }
   ],
   "source": [
    "dane16.index[0]"
   ]
  },
  {
   "cell_type": "code",
   "execution_count": 118,
   "metadata": {
    "button": false,
    "new_sheet": false,
    "run_control": {
     "read_only": false
    }
   },
   "outputs": [
    {
     "ename": "AttributeError",
     "evalue": "module 'datetime' has no attribute 'week'",
     "output_type": "error",
     "traceback": [
      "\u001b[0;31m---------------------------------------------------------------------------\u001b[0m",
      "\u001b[0;31mAttributeError\u001b[0m                            Traceback (most recent call last)",
      "\u001b[0;32m<ipython-input-118-d17e0c79f873>\u001b[0m in \u001b[0;36m<module>\u001b[0;34m()\u001b[0m\n\u001b[0;32m----> 1\u001b[0;31m \u001b[0mdatetime\u001b[0m\u001b[0;34m.\u001b[0m\u001b[0mweek\u001b[0m\u001b[0;34m(\u001b[0m\u001b[0mdane16\u001b[0m\u001b[0;34m.\u001b[0m\u001b[0mindex\u001b[0m\u001b[0;34m[\u001b[0m\u001b[0;36m0\u001b[0m\u001b[0;34m]\u001b[0m\u001b[0;34m)\u001b[0m\u001b[0;34m\u001b[0m\u001b[0m\n\u001b[0m",
      "\u001b[0;31mAttributeError\u001b[0m: module 'datetime' has no attribute 'week'"
     ]
    }
   ],
   "source": [
    "datetime.week(dane16.index[0])"
   ]
  },
  {
   "cell_type": "code",
   "execution_count": 117,
   "metadata": {
    "button": false,
    "collapsed": true,
    "new_sheet": false,
    "run_control": {
     "read_only": false
    }
   },
   "outputs": [],
   "source": [
    "import datetime"
   ]
  },
  {
   "cell_type": "code",
   "execution_count": null,
   "metadata": {
    "button": false,
    "collapsed": true,
    "new_sheet": false,
    "run_control": {
     "read_only": false
    }
   },
   "outputs": [],
   "source": []
  }
 ],
 "metadata": {
  "hide_input": false,
  "kernelspec": {
   "display_name": "Python 3",
   "language": "python",
   "name": "python3"
  },
  "language_info": {
   "codemirror_mode": {
    "name": "ipython",
    "version": 3
   },
   "file_extension": ".py",
   "mimetype": "text/x-python",
   "name": "python",
   "nbconvert_exporter": "python",
   "pygments_lexer": "ipython3",
   "version": "3.4.2"
  }
 },
 "nbformat": 4,
 "nbformat_minor": 1
}
