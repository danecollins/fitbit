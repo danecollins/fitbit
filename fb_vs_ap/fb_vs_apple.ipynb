{
 "cells": [
  {
   "cell_type": "code",
   "execution_count": 234,
   "metadata": {
    "collapsed": false
   },
   "outputs": [
    {
     "data": {
      "text/html": [
       "<div>\n",
       "<table border=\"1\" class=\"dataframe\">\n",
       "  <thead>\n",
       "    <tr style=\"text-align: right;\">\n",
       "      <th></th>\n",
       "      <th>steps_fb</th>\n",
       "      <th>dist_fb</th>\n",
       "      <th>steps_ap</th>\n",
       "      <th>dist_ap</th>\n",
       "      <th>biking</th>\n",
       "      <th>spm_fb</th>\n",
       "      <th>spm_ap</th>\n",
       "    </tr>\n",
       "  </thead>\n",
       "  <tbody>\n",
       "    <tr>\n",
       "      <th>count</th>\n",
       "      <td>305.000000</td>\n",
       "      <td>305.000000</td>\n",
       "      <td>305.000000</td>\n",
       "      <td>305.000000</td>\n",
       "      <td>100.000000</td>\n",
       "      <td>305.000000</td>\n",
       "      <td>305.000000</td>\n",
       "    </tr>\n",
       "    <tr>\n",
       "      <th>mean</th>\n",
       "      <td>16693.416393</td>\n",
       "      <td>7.935915</td>\n",
       "      <td>16976.144236</td>\n",
       "      <td>8.582854</td>\n",
       "      <td>13.722000</td>\n",
       "      <td>2415.796815</td>\n",
       "      <td>1980.823383</td>\n",
       "    </tr>\n",
       "    <tr>\n",
       "      <th>std</th>\n",
       "      <td>4210.248876</td>\n",
       "      <td>2.259363</td>\n",
       "      <td>4403.617146</td>\n",
       "      <td>2.233116</td>\n",
       "      <td>3.373353</td>\n",
       "      <td>2669.760122</td>\n",
       "      <td>96.837027</td>\n",
       "    </tr>\n",
       "    <tr>\n",
       "      <th>min</th>\n",
       "      <td>6521.000000</td>\n",
       "      <td>0.734461</td>\n",
       "      <td>91.000000</td>\n",
       "      <td>0.045215</td>\n",
       "      <td>4.700000</td>\n",
       "      <td>2005.468750</td>\n",
       "      <td>1403.167349</td>\n",
       "    </tr>\n",
       "    <tr>\n",
       "      <th>25%</th>\n",
       "      <td>14106.000000</td>\n",
       "      <td>6.760000</td>\n",
       "      <td>14173.000000</td>\n",
       "      <td>7.166081</td>\n",
       "      <td>11.500000</td>\n",
       "      <td>2041.550054</td>\n",
       "      <td>1920.224623</td>\n",
       "    </tr>\n",
       "    <tr>\n",
       "      <th>50%</th>\n",
       "      <td>16227.000000</td>\n",
       "      <td>7.860000</td>\n",
       "      <td>16452.732264</td>\n",
       "      <td>8.357810</td>\n",
       "      <td>13.550000</td>\n",
       "      <td>2042.346209</td>\n",
       "      <td>1965.477238</td>\n",
       "    </tr>\n",
       "    <tr>\n",
       "      <th>75%</th>\n",
       "      <td>18825.000000</td>\n",
       "      <td>9.210000</td>\n",
       "      <td>19369.000000</td>\n",
       "      <td>9.869648</td>\n",
       "      <td>16.000000</td>\n",
       "      <td>2042.897727</td>\n",
       "      <td>2024.227749</td>\n",
       "    </tr>\n",
       "    <tr>\n",
       "      <th>max</th>\n",
       "      <td>30621.000000</td>\n",
       "      <td>14.990000</td>\n",
       "      <td>30367.000000</td>\n",
       "      <td>15.071708</td>\n",
       "      <td>25.300000</td>\n",
       "      <td>30572.500000</td>\n",
       "      <td>2570.080288</td>\n",
       "    </tr>\n",
       "  </tbody>\n",
       "</table>\n",
       "</div>"
      ],
      "text/plain": [
       "           steps_fb     dist_fb      steps_ap     dist_ap      biking  \\\n",
       "count    305.000000  305.000000    305.000000  305.000000  100.000000   \n",
       "mean   16693.416393    7.935915  16976.144236    8.582854   13.722000   \n",
       "std     4210.248876    2.259363   4403.617146    2.233116    3.373353   \n",
       "min     6521.000000    0.734461     91.000000    0.045215    4.700000   \n",
       "25%    14106.000000    6.760000  14173.000000    7.166081   11.500000   \n",
       "50%    16227.000000    7.860000  16452.732264    8.357810   13.550000   \n",
       "75%    18825.000000    9.210000  19369.000000    9.869648   16.000000   \n",
       "max    30621.000000   14.990000  30367.000000   15.071708   25.300000   \n",
       "\n",
       "             spm_fb       spm_ap  \n",
       "count    305.000000   305.000000  \n",
       "mean    2415.796815  1980.823383  \n",
       "std     2669.760122    96.837027  \n",
       "min     2005.468750  1403.167349  \n",
       "25%     2041.550054  1920.224623  \n",
       "50%     2042.346209  1965.477238  \n",
       "75%     2042.897727  2024.227749  \n",
       "max    30572.500000  2570.080288  "
      ]
     },
     "execution_count": 234,
     "metadata": {},
     "output_type": "execute_result"
    }
   ],
   "source": [
    "import pandas as pd\n",
    "import numpy as np\n",
    "import matplotlib\n",
    "import matplotlib.pyplot as plt\n",
    "import matplotlib.patches as mpatches\n",
    "%matplotlib inline\n",
    "\n",
    "df_raw=pd.read_csv('/Users/dane/src/fitbit/fb_apple.csv', index_col='date')\n",
    "\n",
    "# only keep some of the columns\n",
    "colnames = dict(steps='steps_fb', distance='dist_fb', steps_aw='steps_ap', dist_aw='dist_ap')\n",
    "df = df_raw[['steps','distance','steps_aw','dist_aw', 'biking']].rename(columns=colnames)\n",
    "\n",
    "df_fbap = df[(df.steps_ap != ' NA') & (df.index >= '2015-06-01') & (df.index <= '2016-03-31')]\n",
    "df_fbap = df_fbap.convert_objects(convert_numeric=True)\n",
    "\n",
    "# add the Steps Per Mile for both FB and AP\n",
    "df_fbap['spm_fb'] = df_fbap['steps_fb'] / df_fbap['dist_fb']\n",
    "df_fbap['spm_ap'] = df_fbap['steps_ap'] / df_fbap['dist_ap']\n",
    "df_fbap.describe()"
   ]
  },
  {
   "cell_type": "markdown",
   "metadata": {},
   "source": [
    "Looking at this somethihg is wrong with the spm_fb with a max of 30K. Let's take a look at the values over 2100."
   ]
  },
  {
   "cell_type": "code",
   "execution_count": 235,
   "metadata": {
    "collapsed": false
   },
   "outputs": [
    {
     "data": {
      "text/html": [
       "<div>\n",
       "<table border=\"1\" class=\"dataframe\">\n",
       "  <thead>\n",
       "    <tr style=\"text-align: right;\">\n",
       "      <th></th>\n",
       "      <th>steps_fb</th>\n",
       "      <th>dist_fb</th>\n",
       "      <th>steps_ap</th>\n",
       "      <th>dist_ap</th>\n",
       "      <th>biking</th>\n",
       "      <th>spm_fb</th>\n",
       "      <th>spm_ap</th>\n",
       "    </tr>\n",
       "    <tr>\n",
       "      <th>date</th>\n",
       "      <th></th>\n",
       "      <th></th>\n",
       "      <th></th>\n",
       "      <th></th>\n",
       "      <th></th>\n",
       "      <th></th>\n",
       "      <th></th>\n",
       "    </tr>\n",
       "  </thead>\n",
       "  <tbody>\n",
       "    <tr>\n",
       "      <th>2015-06-08</th>\n",
       "      <td>21526</td>\n",
       "      <td>0.734461</td>\n",
       "      <td>20824.000000</td>\n",
       "      <td>9.961960</td>\n",
       "      <td>NaN</td>\n",
       "      <td>29308.567780</td>\n",
       "      <td>2090.351638</td>\n",
       "    </tr>\n",
       "    <tr>\n",
       "      <th>2015-06-09</th>\n",
       "      <td>16824</td>\n",
       "      <td>2.500597</td>\n",
       "      <td>16110.568142</td>\n",
       "      <td>7.483668</td>\n",
       "      <td>NaN</td>\n",
       "      <td>6727.993355</td>\n",
       "      <td>2152.763575</td>\n",
       "    </tr>\n",
       "    <tr>\n",
       "      <th>2015-08-19</th>\n",
       "      <td>14585</td>\n",
       "      <td>3.819196</td>\n",
       "      <td>13706.000000</td>\n",
       "      <td>6.875319</td>\n",
       "      <td>NaN</td>\n",
       "      <td>3818.866589</td>\n",
       "      <td>1993.507459</td>\n",
       "    </tr>\n",
       "    <tr>\n",
       "      <th>2015-08-28</th>\n",
       "      <td>19323</td>\n",
       "      <td>1.664778</td>\n",
       "      <td>21036.237339</td>\n",
       "      <td>10.335941</td>\n",
       "      <td>11.7</td>\n",
       "      <td>11606.952999</td>\n",
       "      <td>2035.251354</td>\n",
       "    </tr>\n",
       "    <tr>\n",
       "      <th>2015-10-14</th>\n",
       "      <td>9287</td>\n",
       "      <td>1.100000</td>\n",
       "      <td>9585.000000</td>\n",
       "      <td>4.767040</td>\n",
       "      <td>NaN</td>\n",
       "      <td>8442.727273</td>\n",
       "      <td>2010.681810</td>\n",
       "    </tr>\n",
       "    <tr>\n",
       "      <th>2015-10-25</th>\n",
       "      <td>26844</td>\n",
       "      <td>2.790951</td>\n",
       "      <td>26873.000000</td>\n",
       "      <td>13.697527</td>\n",
       "      <td>NaN</td>\n",
       "      <td>9618.226905</td>\n",
       "      <td>1961.887045</td>\n",
       "    </tr>\n",
       "    <tr>\n",
       "      <th>2015-10-28</th>\n",
       "      <td>15339</td>\n",
       "      <td>4.466990</td>\n",
       "      <td>17329.000000</td>\n",
       "      <td>9.329743</td>\n",
       "      <td>11.5</td>\n",
       "      <td>3433.855907</td>\n",
       "      <td>1857.393006</td>\n",
       "    </tr>\n",
       "    <tr>\n",
       "      <th>2015-10-31</th>\n",
       "      <td>29717</td>\n",
       "      <td>3.100000</td>\n",
       "      <td>30367.000000</td>\n",
       "      <td>15.071708</td>\n",
       "      <td>NaN</td>\n",
       "      <td>9586.129032</td>\n",
       "      <td>2014.834732</td>\n",
       "    </tr>\n",
       "    <tr>\n",
       "      <th>2015-12-05</th>\n",
       "      <td>17190</td>\n",
       "      <td>0.800000</td>\n",
       "      <td>17753.000000</td>\n",
       "      <td>9.289279</td>\n",
       "      <td>NaN</td>\n",
       "      <td>21487.500000</td>\n",
       "      <td>1911.127924</td>\n",
       "    </tr>\n",
       "    <tr>\n",
       "      <th>2016-02-19</th>\n",
       "      <td>24458</td>\n",
       "      <td>0.800000</td>\n",
       "      <td>23392.000000</td>\n",
       "      <td>12.265199</td>\n",
       "      <td>NaN</td>\n",
       "      <td>30572.500000</td>\n",
       "      <td>1907.184717</td>\n",
       "    </tr>\n",
       "  </tbody>\n",
       "</table>\n",
       "</div>"
      ],
      "text/plain": [
       "            steps_fb   dist_fb      steps_ap    dist_ap  biking        spm_fb  \\\n",
       "date                                                                            \n",
       "2015-06-08     21526  0.734461  20824.000000   9.961960     NaN  29308.567780   \n",
       "2015-06-09     16824  2.500597  16110.568142   7.483668     NaN   6727.993355   \n",
       "2015-08-19     14585  3.819196  13706.000000   6.875319     NaN   3818.866589   \n",
       "2015-08-28     19323  1.664778  21036.237339  10.335941    11.7  11606.952999   \n",
       "2015-10-14      9287  1.100000   9585.000000   4.767040     NaN   8442.727273   \n",
       "2015-10-25     26844  2.790951  26873.000000  13.697527     NaN   9618.226905   \n",
       "2015-10-28     15339  4.466990  17329.000000   9.329743    11.5   3433.855907   \n",
       "2015-10-31     29717  3.100000  30367.000000  15.071708     NaN   9586.129032   \n",
       "2015-12-05     17190  0.800000  17753.000000   9.289279     NaN  21487.500000   \n",
       "2016-02-19     24458  0.800000  23392.000000  12.265199     NaN  30572.500000   \n",
       "\n",
       "                 spm_ap  \n",
       "date                     \n",
       "2015-06-08  2090.351638  \n",
       "2015-06-09  2152.763575  \n",
       "2015-08-19  1993.507459  \n",
       "2015-08-28  2035.251354  \n",
       "2015-10-14  2010.681810  \n",
       "2015-10-25  1961.887045  \n",
       "2015-10-28  1857.393006  \n",
       "2015-10-31  2014.834732  \n",
       "2015-12-05  1911.127924  \n",
       "2016-02-19  1907.184717  "
      ]
     },
     "execution_count": 235,
     "metadata": {},
     "output_type": "execute_result"
    }
   ],
   "source": [
    "df_fbap[df_fbap.spm_fb > 2100]"
   ]
  },
  {
   "cell_type": "markdown",
   "metadata": {},
   "source": [
    "Looking at these days, the steps look fine and it seems the distance values are just wrong so let's fix the distance by re-computing the distance based on the median step value of 2042."
   ]
  },
  {
   "cell_type": "code",
   "execution_count": 236,
   "metadata": {
    "collapsed": false
   },
   "outputs": [
    {
     "data": {
      "text/html": [
       "<div>\n",
       "<table border=\"1\" class=\"dataframe\">\n",
       "  <thead>\n",
       "    <tr style=\"text-align: right;\">\n",
       "      <th></th>\n",
       "      <th>steps_fb</th>\n",
       "      <th>dist_fb</th>\n",
       "      <th>steps_ap</th>\n",
       "      <th>dist_ap</th>\n",
       "      <th>biking</th>\n",
       "      <th>spm_fb</th>\n",
       "      <th>spm_ap</th>\n",
       "    </tr>\n",
       "  </thead>\n",
       "  <tbody>\n",
       "    <tr>\n",
       "      <th>count</th>\n",
       "      <td>305.000000</td>\n",
       "      <td>305.000000</td>\n",
       "      <td>305.000000</td>\n",
       "      <td>305.000000</td>\n",
       "      <td>100.000000</td>\n",
       "      <td>305.000000</td>\n",
       "      <td>305.000000</td>\n",
       "    </tr>\n",
       "    <tr>\n",
       "      <th>mean</th>\n",
       "      <td>16693.416393</td>\n",
       "      <td>8.177762</td>\n",
       "      <td>16976.144236</td>\n",
       "      <td>8.582854</td>\n",
       "      <td>13.722000</td>\n",
       "      <td>2041.425274</td>\n",
       "      <td>1980.823383</td>\n",
       "    </tr>\n",
       "    <tr>\n",
       "      <th>std</th>\n",
       "      <td>4210.248876</td>\n",
       "      <td>2.063827</td>\n",
       "      <td>4403.617146</td>\n",
       "      <td>2.233116</td>\n",
       "      <td>3.373353</td>\n",
       "      <td>4.270340</td>\n",
       "      <td>96.837027</td>\n",
       "    </tr>\n",
       "    <tr>\n",
       "      <th>min</th>\n",
       "      <td>6521.000000</td>\n",
       "      <td>3.190000</td>\n",
       "      <td>91.000000</td>\n",
       "      <td>0.045215</td>\n",
       "      <td>4.700000</td>\n",
       "      <td>2005.468750</td>\n",
       "      <td>1403.167349</td>\n",
       "    </tr>\n",
       "    <tr>\n",
       "      <th>25%</th>\n",
       "      <td>14106.000000</td>\n",
       "      <td>6.920000</td>\n",
       "      <td>14173.000000</td>\n",
       "      <td>7.166081</td>\n",
       "      <td>11.500000</td>\n",
       "      <td>2041.550054</td>\n",
       "      <td>1920.224623</td>\n",
       "    </tr>\n",
       "    <tr>\n",
       "      <th>50%</th>\n",
       "      <td>16227.000000</td>\n",
       "      <td>7.950000</td>\n",
       "      <td>16452.732264</td>\n",
       "      <td>8.357810</td>\n",
       "      <td>13.550000</td>\n",
       "      <td>2042.235123</td>\n",
       "      <td>1965.477238</td>\n",
       "    </tr>\n",
       "    <tr>\n",
       "      <th>75%</th>\n",
       "      <td>18825.000000</td>\n",
       "      <td>9.230000</td>\n",
       "      <td>19369.000000</td>\n",
       "      <td>9.869648</td>\n",
       "      <td>16.000000</td>\n",
       "      <td>2042.834138</td>\n",
       "      <td>2024.227749</td>\n",
       "    </tr>\n",
       "    <tr>\n",
       "      <th>max</th>\n",
       "      <td>30621.000000</td>\n",
       "      <td>14.990000</td>\n",
       "      <td>30367.000000</td>\n",
       "      <td>15.071708</td>\n",
       "      <td>25.300000</td>\n",
       "      <td>2044.200627</td>\n",
       "      <td>2570.080288</td>\n",
       "    </tr>\n",
       "  </tbody>\n",
       "</table>\n",
       "</div>"
      ],
      "text/plain": [
       "           steps_fb     dist_fb      steps_ap     dist_ap      biking  \\\n",
       "count    305.000000  305.000000    305.000000  305.000000  100.000000   \n",
       "mean   16693.416393    8.177762  16976.144236    8.582854   13.722000   \n",
       "std     4210.248876    2.063827   4403.617146    2.233116    3.373353   \n",
       "min     6521.000000    3.190000     91.000000    0.045215    4.700000   \n",
       "25%    14106.000000    6.920000  14173.000000    7.166081   11.500000   \n",
       "50%    16227.000000    7.950000  16452.732264    8.357810   13.550000   \n",
       "75%    18825.000000    9.230000  19369.000000    9.869648   16.000000   \n",
       "max    30621.000000   14.990000  30367.000000   15.071708   25.300000   \n",
       "\n",
       "            spm_fb       spm_ap  \n",
       "count   305.000000   305.000000  \n",
       "mean   2041.425274  1980.823383  \n",
       "std       4.270340    96.837027  \n",
       "min    2005.468750  1403.167349  \n",
       "25%    2041.550054  1920.224623  \n",
       "50%    2042.235123  1965.477238  \n",
       "75%    2042.834138  2024.227749  \n",
       "max    2044.200627  2570.080288  "
      ]
     },
     "execution_count": 236,
     "metadata": {},
     "output_type": "execute_result"
    }
   ],
   "source": [
    "df_fbap.ix[df_fbap.spm_fb > 2100, 'dist_fb'] = df_fbap.steps_fb / 2042.\n",
    "#df_fbap.describe()\n",
    "# recompute the spm\n",
    "df_fbap['spm_fb'] = df_fbap['steps_fb'] / df_fbap['dist_fb']\n",
    "df_fbap.describe()"
   ]
  },
  {
   "cell_type": "markdown",
   "metadata": {},
   "source": [
    "The spm_fb seems very grouped around 2041 but the min of 2005 is interesting.  Was it just set wrong for a period of time?"
   ]
  },
  {
   "cell_type": "code",
   "execution_count": 237,
   "metadata": {
    "collapsed": false
   },
   "outputs": [
    {
     "data": {
      "text/plain": [
       "[<matplotlib.lines.Line2D at 0x116ac6ba8>]"
      ]
     },
     "execution_count": 237,
     "metadata": {},
     "output_type": "execute_result"
    },
    {
     "data": {
      "image/png": "[encoded data removed]",
      "text/plain": [
       "<matplotlib.figure.Figure at 0x116ac6048>"
      ]
     },
     "metadata": {},
     "output_type": "display_data"
    }
   ],
   "source": [
    "plt.plot(np.arange(len(df_fbap)), df_fbap.spm_fb)"
   ]
  },
  {
   "cell_type": "markdown",
   "metadata": {},
   "source": [
    "Clearly this is not just a setting in the Fitbit app but some other kind of hickup.\n",
    "\n",
    "# Data Sources\n",
    "\n",
    "The Fitbit data comes initially from a Fitbit Flex and since November 22, 2015 from a Fitbit One (after the Flex died). For the Apple data, the data prior to June 1, 2015 came from the sensors in the iPhone 6 while the data after that date is from the Apple Watch.  Because the iPhone and Watch are such different devices, especially in how they are worn, I have separated these into 2 different data sets.\n",
    "\n",
    "Since steps are the base data that all devices cover it seems natural to plot the steps from the devices against each other."
   ]
  },
  {
   "cell_type": "code",
   "execution_count": 244,
   "metadata": {
    "collapsed": false
   },
   "outputs": [
    {
     "data": {
      "image/png": "[encoded data removed]",
      "text/plain": [
       "<matplotlib.figure.Figure at 0x113f78d30>"
      ]
     },
     "metadata": {},
     "output_type": "display_data"
    }
   ],
   "source": [
    "red = '#ff0000'\n",
    "blue = '#0000ff'\n",
    "phone = red\n",
    "watch = blue\n",
    "df_fbap.ix[df_fbap.index < '2015-06-01', 'color'] = phone\n",
    "df_fbap.ix[df_fbap.index >= '2015-06-01', 'color'] = watch\n",
    "fig = plt.gcf()\n",
    "fig.set_size_inches(10,10) \n",
    "plt.scatter(df_fbap.steps_fb, df_fbap.steps_ap, color=outliers.biking.apply(lambda x: red if x>1 else blue))\n",
    "plt.xlim([0,30000])\n",
    "plt.ylim([0,30000])\n",
    "plt.title('Fitbit Steps versus Apple Device Steps')\n",
    "plt.xlabel('Steps From Fitbit Device')\n",
    "plt.ylabel('Steps From Apple Devices')\n",
    "#ip_patch = mpatches.Patch(color=phone, label='iPhone 6')\n",
    "#w_patch = mpatches.Patch(color=watch, label='Apple Watch')\n",
    "#plt.legend(handles=[ip_patch, w_patch], bbox_to_anchor=[0.3,0.8])\n",
    "plt.show()\n"
   ]
  },
  {
   "cell_type": "markdown",
   "metadata": {},
   "source": [
    "There is clearly a lot of commonality in the values reported but the data matches much worse than I expected.  It appears that the watch data may be closer but it is too hard to tell in this representation.\n",
    "\n",
    "A better way of doing this may be to compute a percent difference between the two step values and look at these in a histogram."
   ]
  },
  {
   "cell_type": "code",
   "execution_count": 283,
   "metadata": {
    "collapsed": false
   },
   "outputs": [],
   "source": [
    "# let's separate the phone and watch data\n",
    "df_phone = df_fbap[df_fbap.color == phone].copy()\n",
    "df_watch = df_fbap[df_fbap.color == watch].copy()\n",
    "\n",
    "df_watch['sdiff'] = 100*(df_watch.steps_ap - df_watch.steps_fb) / df_watch.steps_fb\n",
    "df_watch['ddiff'] = 100*(df_watch.dist_ap - df_watch.dist_fb) / df_watch.dist_fb"
   ]
  },
  {
   "cell_type": "code",
   "execution_count": 286,
   "metadata": {
    "collapsed": false
   },
   "outputs": [
    {
     "data": {
      "image/png": "[encoded data removed]",
      "text/plain": [
       "<matplotlib.figure.Figure at 0x112bb3668>"
      ]
     },
     "metadata": {},
     "output_type": "display_data"
    }
   ],
   "source": [
    "plt.figure(1, figsize=(16,8))\n",
    "#fig.set_size_inches(16,8)\n",
    "plt.subplot(121) # numrows, numcols, fignum\n",
    "df_watch.sdiff.hist(bins=np.arange(-50, 100, 10), color=watch)\n",
    "plt.title('Step Difference Watch to Fitbit')\n",
    "plt.xlabel('Percent Difference')\n",
    "plt.subplot(122)\n",
    "df_watch.ddiff.hist(bins=np.arange(-50, 100, 10), color=watch)\n",
    "plt.title('Distance Difference Watch to Fitbit')\n",
    "plt.xlabel('Percent Difference')\n",
    "plt.show()"
   ]
  },
  {
   "cell_type": "code",
   "execution_count": 263,
   "metadata": {
    "collapsed": false
   },
   "outputs": [
    {
     "data": {
      "text/html": [
       "<div>\n",
       "<table border=\"1\" class=\"dataframe\">\n",
       "  <thead>\n",
       "    <tr style=\"text-align: right;\">\n",
       "      <th></th>\n",
       "      <th>steps_fb</th>\n",
       "      <th>dist_fb</th>\n",
       "      <th>steps_ap</th>\n",
       "      <th>dist_ap</th>\n",
       "      <th>biking</th>\n",
       "      <th>spm_fb</th>\n",
       "      <th>spm_ap</th>\n",
       "      <th>sdiff</th>\n",
       "    </tr>\n",
       "  </thead>\n",
       "  <tbody>\n",
       "    <tr>\n",
       "      <th>count</th>\n",
       "      <td>305.000000</td>\n",
       "      <td>305.000000</td>\n",
       "      <td>305.000000</td>\n",
       "      <td>305.000000</td>\n",
       "      <td>100.000000</td>\n",
       "      <td>305.000000</td>\n",
       "      <td>305.000000</td>\n",
       "      <td>305.000000</td>\n",
       "    </tr>\n",
       "    <tr>\n",
       "      <th>mean</th>\n",
       "      <td>16693.416393</td>\n",
       "      <td>8.177762</td>\n",
       "      <td>16976.144236</td>\n",
       "      <td>8.582854</td>\n",
       "      <td>13.722000</td>\n",
       "      <td>2041.425274</td>\n",
       "      <td>1980.823383</td>\n",
       "      <td>3.269170</td>\n",
       "    </tr>\n",
       "    <tr>\n",
       "      <th>std</th>\n",
       "      <td>4210.248876</td>\n",
       "      <td>2.063827</td>\n",
       "      <td>4403.617146</td>\n",
       "      <td>2.233116</td>\n",
       "      <td>3.373353</td>\n",
       "      <td>4.270340</td>\n",
       "      <td>96.837027</td>\n",
       "      <td>19.250321</td>\n",
       "    </tr>\n",
       "    <tr>\n",
       "      <th>min</th>\n",
       "      <td>6521.000000</td>\n",
       "      <td>3.190000</td>\n",
       "      <td>91.000000</td>\n",
       "      <td>0.045215</td>\n",
       "      <td>4.700000</td>\n",
       "      <td>2005.468750</td>\n",
       "      <td>1403.167349</td>\n",
       "      <td>-99.677419</td>\n",
       "    </tr>\n",
       "    <tr>\n",
       "      <th>25%</th>\n",
       "      <td>14106.000000</td>\n",
       "      <td>6.920000</td>\n",
       "      <td>14173.000000</td>\n",
       "      <td>7.166081</td>\n",
       "      <td>11.500000</td>\n",
       "      <td>2041.550054</td>\n",
       "      <td>1920.224623</td>\n",
       "      <td>-4.635594</td>\n",
       "    </tr>\n",
       "    <tr>\n",
       "      <th>50%</th>\n",
       "      <td>16227.000000</td>\n",
       "      <td>7.950000</td>\n",
       "      <td>16452.732264</td>\n",
       "      <td>8.357810</td>\n",
       "      <td>13.550000</td>\n",
       "      <td>2042.235123</td>\n",
       "      <td>1965.477238</td>\n",
       "      <td>-0.952791</td>\n",
       "    </tr>\n",
       "    <tr>\n",
       "      <th>75%</th>\n",
       "      <td>18825.000000</td>\n",
       "      <td>9.230000</td>\n",
       "      <td>19369.000000</td>\n",
       "      <td>9.869648</td>\n",
       "      <td>16.000000</td>\n",
       "      <td>2042.834138</td>\n",
       "      <td>2024.227749</td>\n",
       "      <td>8.121473</td>\n",
       "    </tr>\n",
       "    <tr>\n",
       "      <th>max</th>\n",
       "      <td>30621.000000</td>\n",
       "      <td>14.990000</td>\n",
       "      <td>30367.000000</td>\n",
       "      <td>15.071708</td>\n",
       "      <td>25.300000</td>\n",
       "      <td>2044.200627</td>\n",
       "      <td>2570.080288</td>\n",
       "      <td>79.443851</td>\n",
       "    </tr>\n",
       "  </tbody>\n",
       "</table>\n",
       "</div>"
      ],
      "text/plain": [
       "           steps_fb     dist_fb      steps_ap     dist_ap      biking  \\\n",
       "count    305.000000  305.000000    305.000000  305.000000  100.000000   \n",
       "mean   16693.416393    8.177762  16976.144236    8.582854   13.722000   \n",
       "std     4210.248876    2.063827   4403.617146    2.233116    3.373353   \n",
       "min     6521.000000    3.190000     91.000000    0.045215    4.700000   \n",
       "25%    14106.000000    6.920000  14173.000000    7.166081   11.500000   \n",
       "50%    16227.000000    7.950000  16452.732264    8.357810   13.550000   \n",
       "75%    18825.000000    9.230000  19369.000000    9.869648   16.000000   \n",
       "max    30621.000000   14.990000  30367.000000   15.071708   25.300000   \n",
       "\n",
       "            spm_fb       spm_ap       sdiff  \n",
       "count   305.000000   305.000000  305.000000  \n",
       "mean   2041.425274  1980.823383    3.269170  \n",
       "std       4.270340    96.837027   19.250321  \n",
       "min    2005.468750  1403.167349  -99.677419  \n",
       "25%    2041.550054  1920.224623   -4.635594  \n",
       "50%    2042.235123  1965.477238   -0.952791  \n",
       "75%    2042.834138  2024.227749    8.121473  \n",
       "max    2044.200627  2570.080288   79.443851  "
      ]
     },
     "execution_count": 263,
     "metadata": {},
     "output_type": "execute_result"
    }
   ],
   "source": [
    "df_watch.describe()"
   ]
  },
  {
   "cell_type": "code",
   "execution_count": 280,
   "metadata": {
    "collapsed": false
   },
   "outputs": [
    {
     "data": {
      "image/png": "[encoded data removed]",
      "text/plain": [
       "<matplotlib.figure.Figure at 0x113e401d0>"
      ]
     },
     "metadata": {},
     "output_type": "display_data"
    }
   ],
   "source": [
    "plt.figure(1, figsize=(16,8))\n",
    "plt.subplot(121) # numrows, numcols, fignum\n",
    "df_watch.spm_fb.hist(bins=np.arange(1800, 2500, 50), color=\"blue\")\n",
    "plt.title('Histogram of Steps Per Mile for Fitbit')\n",
    "plt.xlabel('Steps Per Mile')\n",
    "plt.subplot(122)\n",
    "df_watch.spm_ap.hist(bins=np.arange(1800, 2500, 50), color='grey')\n",
    "plt.title('Histogram of Steps Per Mile for Watch')\n",
    "plt.xlabel('Steps Per Mile')\n",
    "plt.show()"
   ]
  },
  {
   "cell_type": "code",
   "execution_count": 281,
   "metadata": {
    "collapsed": false
   },
   "outputs": [
    {
     "data": {
      "image/png": "[encoded data removed]",
      "text/plain": [
       "<matplotlib.figure.Figure at 0x117eff390>"
      ]
     },
     "metadata": {},
     "output_type": "display_data"
    }
   ],
   "source": [
    "plt.figure(1, figsize=(16,8))\n",
    "plt.subplot(121) # numrows, numcols, fignum\n",
    "df_watch[df_watch.biking.isnull()].spm_ap.hist(bins=np.arange(1800, 2500, 50), color='grey')\n",
    "plt.title('Watch Steps Per Mile (walking only)')\n",
    "plt.xlabel('Steps Per Mile')\n",
    "plt.subplot(122)\n",
    "df_watch[df_watch.biking>0].spm_ap.hist(bins=np.arange(1800, 2500, 50), color='grey')\n",
    "plt.title('Watch Steps Per Mile (walking and cycling)')\n",
    "plt.xlabel('Steps Per Mile')\n",
    "plt.show()"
   ]
  },
  {
   "cell_type": "code",
   "execution_count": 269,
   "metadata": {
    "collapsed": false
   },
   "outputs": [
    {
     "data": {
      "text/html": [
       "<div>\n",
       "<table border=\"1\" class=\"dataframe\">\n",
       "  <thead>\n",
       "    <tr style=\"text-align: right;\">\n",
       "      <th></th>\n",
       "      <th>steps_fb</th>\n",
       "      <th>dist_fb</th>\n",
       "      <th>steps_ap</th>\n",
       "      <th>dist_ap</th>\n",
       "      <th>biking</th>\n",
       "      <th>spm_fb</th>\n",
       "      <th>spm_ap</th>\n",
       "      <th>sdiff</th>\n",
       "    </tr>\n",
       "  </thead>\n",
       "  <tbody>\n",
       "    <tr>\n",
       "      <th>count</th>\n",
       "      <td>204.000000</td>\n",
       "      <td>204.000000</td>\n",
       "      <td>204.000000</td>\n",
       "      <td>204.000000</td>\n",
       "      <td>0</td>\n",
       "      <td>204.000000</td>\n",
       "      <td>204.000000</td>\n",
       "      <td>204.000000</td>\n",
       "    </tr>\n",
       "    <tr>\n",
       "      <th>mean</th>\n",
       "      <td>16885.426471</td>\n",
       "      <td>8.271974</td>\n",
       "      <td>16628.651381</td>\n",
       "      <td>8.460797</td>\n",
       "      <td>NaN</td>\n",
       "      <td>2041.393079</td>\n",
       "      <td>1965.519036</td>\n",
       "      <td>-0.624413</td>\n",
       "    </tr>\n",
       "    <tr>\n",
       "      <th>std</th>\n",
       "      <td>4279.624151</td>\n",
       "      <td>2.097796</td>\n",
       "      <td>4461.286916</td>\n",
       "      <td>2.241240</td>\n",
       "      <td>NaN</td>\n",
       "      <td>4.431457</td>\n",
       "      <td>69.395425</td>\n",
       "      <td>14.547920</td>\n",
       "    </tr>\n",
       "    <tr>\n",
       "      <th>min</th>\n",
       "      <td>6521.000000</td>\n",
       "      <td>3.190000</td>\n",
       "      <td>91.000000</td>\n",
       "      <td>0.045215</td>\n",
       "      <td>NaN</td>\n",
       "      <td>2005.468750</td>\n",
       "      <td>1847.484527</td>\n",
       "      <td>-99.677419</td>\n",
       "    </tr>\n",
       "    <tr>\n",
       "      <th>25%</th>\n",
       "      <td>14382.750000</td>\n",
       "      <td>7.040000</td>\n",
       "      <td>13819.750000</td>\n",
       "      <td>7.147554</td>\n",
       "      <td>NaN</td>\n",
       "      <td>2041.586045</td>\n",
       "      <td>1912.834544</td>\n",
       "      <td>-4.673839</td>\n",
       "    </tr>\n",
       "    <tr>\n",
       "      <th>50%</th>\n",
       "      <td>16625.000000</td>\n",
       "      <td>8.140000</td>\n",
       "      <td>16111.784071</td>\n",
       "      <td>8.284356</td>\n",
       "      <td>NaN</td>\n",
       "      <td>2042.314726</td>\n",
       "      <td>1950.978596</td>\n",
       "      <td>-1.899686</td>\n",
       "    </tr>\n",
       "    <tr>\n",
       "      <th>75%</th>\n",
       "      <td>19027.500000</td>\n",
       "      <td>9.315000</td>\n",
       "      <td>19335.750000</td>\n",
       "      <td>9.666027</td>\n",
       "      <td>NaN</td>\n",
       "      <td>2042.834306</td>\n",
       "      <td>2007.568874</td>\n",
       "      <td>2.055283</td>\n",
       "    </tr>\n",
       "    <tr>\n",
       "      <th>max</th>\n",
       "      <td>30621.000000</td>\n",
       "      <td>14.990000</td>\n",
       "      <td>30367.000000</td>\n",
       "      <td>15.071708</td>\n",
       "      <td>NaN</td>\n",
       "      <td>2044.200627</td>\n",
       "      <td>2249.735002</td>\n",
       "      <td>68.425729</td>\n",
       "    </tr>\n",
       "  </tbody>\n",
       "</table>\n",
       "</div>"
      ],
      "text/plain": [
       "           steps_fb     dist_fb      steps_ap     dist_ap  biking  \\\n",
       "count    204.000000  204.000000    204.000000  204.000000       0   \n",
       "mean   16885.426471    8.271974  16628.651381    8.460797     NaN   \n",
       "std     4279.624151    2.097796   4461.286916    2.241240     NaN   \n",
       "min     6521.000000    3.190000     91.000000    0.045215     NaN   \n",
       "25%    14382.750000    7.040000  13819.750000    7.147554     NaN   \n",
       "50%    16625.000000    8.140000  16111.784071    8.284356     NaN   \n",
       "75%    19027.500000    9.315000  19335.750000    9.666027     NaN   \n",
       "max    30621.000000   14.990000  30367.000000   15.071708     NaN   \n",
       "\n",
       "            spm_fb       spm_ap       sdiff  \n",
       "count   204.000000   204.000000  204.000000  \n",
       "mean   2041.393079  1965.519036   -0.624413  \n",
       "std       4.431457    69.395425   14.547920  \n",
       "min    2005.468750  1847.484527  -99.677419  \n",
       "25%    2041.586045  1912.834544   -4.673839  \n",
       "50%    2042.314726  1950.978596   -1.899686  \n",
       "75%    2042.834306  2007.568874    2.055283  \n",
       "max    2044.200627  2249.735002   68.425729  "
      ]
     },
     "execution_count": 269,
     "metadata": {},
     "output_type": "execute_result"
    }
   ],
   "source": [
    "df_watch[(df_watch.spm_ap>1500) & (df_watch.biking.isnull())].describe()"
   ]
  },
  {
   "cell_type": "code",
   "execution_count": 310,
   "metadata": {
    "collapsed": false
   },
   "outputs": [
    {
     "data": {
      "image/png": "[encoded data removed]",
      "text/plain": [
       "<matplotlib.figure.Figure at 0x117945cc0>"
      ]
     },
     "metadata": {},
     "output_type": "display_data"
    }
   ],
   "source": [
    "#plt.plot(x=np.arange(df_watch), y=[df_watch.dist_fb.cumsum(),df_watch.dist_ap.cumsum()])\n",
    "fb = df_watch.steps_fb.cumsum()\n",
    "\n",
    "ap = df_watch.steps_ap.cumsum()\n",
    "x = np.arange(len(ap))\n",
    "fig = plt.gcf()\n",
    "fig.set_size_inches(12,8)\n",
    "plt.plot(x, fb, 'b-',  x, ap, 'r-')\n",
    "plt.title('Cummulative Steps')\n",
    "plt.ylabel('Steps')\n",
    "plt.xlabel('Days')\n",
    "fb_patch = mpatches.Patch(color=blue, label='Fitbit One')\n",
    "ap_patch = mpatches.Patch(color=red, label='Apple Watch')\n",
    "plt.legend(handles=[fb_patch, ap_patch], bbox_to_anchor=[0.4,0.8])\n",
    "plt.gca().text(250, 5500000, 'Total error = 1.7%', fontweight='bold', fontsize=15,\n",
    "        bbox={'facecolor':'red', 'alpha':0.5, 'pad':10})\n",
    "plt.show()"
   ]
  },
  {
   "cell_type": "code",
   "execution_count": 311,
   "metadata": {
    "collapsed": false
   },
   "outputs": [
    {
     "data": {
      "text/plain": [
       "5177723.9920594189"
      ]
     },
     "execution_count": 311,
     "metadata": {},
     "output_type": "execute_result"
    }
   ],
   "source": [
    "sum(df_watch.steps_ap)"
   ]
  },
  {
   "cell_type": "code",
   "execution_count": 271,
   "metadata": {
    "collapsed": false
   },
   "outputs": [
    {
     "data": {
      "text/plain": [
       "2112.0"
      ]
     },
     "execution_count": 271,
     "metadata": {},
     "output_type": "execute_result"
    }
   ],
   "source": [
    "5280/2.5"
   ]
  },
  {
   "cell_type": "code",
   "execution_count": null,
   "metadata": {
    "collapsed": false
   },
   "outputs": [],
   "source": [
    "tmp[tmp.spm > 1800].spm.median()"
   ]
  },
  {
   "cell_type": "code",
   "execution_count": null,
   "metadata": {
    "collapsed": false
   },
   "outputs": [],
   "source": [
    "tmp[(tmp.spm > 1800) & (tmp.index < '2015-06-01') ].spm.hist(bins=20)"
   ]
  },
  {
   "cell_type": "code",
   "execution_count": null,
   "metadata": {
    "collapsed": false
   },
   "outputs": [],
   "source": [
    "dfp.goalmet_cindy.value_counts()"
   ]
  },
  {
   "cell_type": "code",
   "execution_count": null,
   "metadata": {
    "collapsed": false
   },
   "outputs": [],
   "source": [
    "dfp.goalmet_dane.value_counts()"
   ]
  },
  {
   "cell_type": "code",
   "execution_count": null,
   "metadata": {
    "collapsed": false
   },
   "outputs": [],
   "source": [
    "fig = plt.gcf()\n",
    "fig.set_size_inches(12,12)\n",
    "df45w.ix[df45w.index.year==2014, 'color'] = '#FF0000'  #  red\n",
    "df45w.ix[df45w.index.year==2015, 'color'] = '#0000FF'  #  blue\n",
    "xx = df45w[(df45w.steps_dane>1000) & (df45w.steps_cindy>1000) & (df45w.steps_cindy<35000)]\n",
    "#plt.scatter(df45w.steps_dane, df45w.steps_cindy, color=df45w.color, s=30)\n",
    "plt.scatter(xx.steps_dane, xx.steps_cindy, color=xx.color, s=30)\n",
    "plt.title('Steps by Year')\n",
    "plt.xlabel('dane')\n",
    "plt.ylabel('cindy')"
   ]
  },
  {
   "cell_type": "code",
   "execution_count": null,
   "metadata": {
    "collapsed": false
   },
   "outputs": [],
   "source": [
    "df45w.ix[df45w.Travel=='Work', 'color'] = '#FF0000'      # Work is red\n",
    "df45w.ix[pd.isnull(df45w.Travel), 'color'] = '#00AA00'   # none is green\n",
    "df45w.ix[df45w.Travel=='Vacation', 'color'] = '#0000FF'  # Vacation is blue\n",
    "red = '#FF0000'\n",
    "green = '#00AA00'\n",
    "blue = '#0000FF'\n",
    "cmap = {'Work': red, 'Vacation': blue}\n",
    "\n",
    "color = df45w.Travel.apply(lambda x: cmap.get(x, green))\n",
    "\n",
    "fig = plt.gcf()\n",
    "fig.set_size_inches(18,5)\n",
    "plt.figure(1)\n",
    "plt.subplot(211)\n",
    "dfp = df45w[(df45w.index <= '2014-12-31')]\n",
    "plt.bar(dfp.index, dfp.goalmet_dane, color=dfp.Travel.apply(lambda x: cmap.get(x, green)))\n",
    "plt.yticks([-1.1,1.1])\n",
    "plt.gca().set_yticklabels(['Not Met', 'Goal Met'])\n",
    "plt.subplot(212)\n",
    "dfp = df45w[(df45w.index >= '2015-01-01')&(df45w.index <= '2015-12-31')]\n",
    "plt.bar(dfp.index, dfp.goalmet_dane, color=dfp.Travel.apply(lambda x: cmap.get(x, green)))\n",
    "plt.yticks([-1.1,1.1])\n",
    "plt.gca().set_yticklabels(['Not Met', 'Goal Met'])\n",
    "plt.show()"
   ]
  },
  {
   "cell_type": "code",
   "execution_count": null,
   "metadata": {
    "collapsed": false
   },
   "outputs": [],
   "source": [
    "red = '#FF0000'\n",
    "green = '#00AA00'\n",
    "blue = '#0000FF'\n",
    "fig = plt.gcf()\n",
    "fig.set_size_inches(18,3)\n",
    "plt.figure(1)\n",
    "dfp = df45w[(df45w.index >= '2015-01-01')&(df45w.index <= '2015-12-31')]\n",
    "plt.bar(dfp.index, dfp.goalmet_dane, color=dfp.biking_dane.apply(lambda x: green if x>0 else red))\n",
    "plt.yticks([-1.1,1.1])\n",
    "plt.gca().set_yticklabels(['Not Met', 'Goal Met'])\n",
    "plt.show()"
   ]
  },
  {
   "cell_type": "code",
   "execution_count": null,
   "metadata": {
    "collapsed": false
   },
   "outputs": [],
   "source": [
    "dfp.head()"
   ]
  }
 ],
 "metadata": {
  "kernelspec": {
   "display_name": "Python 3",
   "language": "python",
   "name": "python3"
  },
  "language_info": {
   "codemirror_mode": {
    "name": "ipython",
    "version": 3
   },
   "file_extension": ".py",
   "mimetype": "text/x-python",
   "name": "python",
   "nbconvert_exporter": "python",
   "pygments_lexer": "ipython3",
   "version": "3.5.0"
  }
 },
 "nbformat": 4,
 "nbformat_minor": 0
}
