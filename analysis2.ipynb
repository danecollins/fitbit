{
 "cells": [
  {
   "cell_type": "markdown",
   "metadata": {
    "button": false,
    "new_sheet": false,
    "run_control": {
     "read_only": false
    }
   },
   "source": [
    "# Analyzing Fitbit Data in iPython\n",
    "\n",
    "Using the Fitbit Python library I downloaded the Fitbit activity, calorie and weight data. This notebook then analyzes the data as a way to learn about iPython."
   ]
  },
  {
   "cell_type": "code",
   "execution_count": 53,
   "metadata": {
    "button": false,
    "new_sheet": false,
    "run_control": {
     "read_only": false
    }
   },
   "outputs": [
    {
     "name": "stdout",
     "output_type": "stream",
     "text": [
      "/Users/dane/src/fitbit\n"
     ]
    },
    {
     "data": {
      "text/html": [
       "<div>\n",
       "<table border=\"1\" class=\"dataframe\">\n",
       "  <thead>\n",
       "    <tr style=\"text-align: right;\">\n",
       "      <th></th>\n",
       "      <th>date</th>\n",
       "      <th>category</th>\n",
       "      <th>value</th>\n",
       "    </tr>\n",
       "  </thead>\n",
       "  <tbody>\n",
       "    <tr>\n",
       "      <th>0</th>\n",
       "      <td>2015-08-02</td>\n",
       "      <td>calories</td>\n",
       "      <td>2060.00</td>\n",
       "    </tr>\n",
       "    <tr>\n",
       "      <th>1</th>\n",
       "      <td>2015-08-02</td>\n",
       "      <td>distance</td>\n",
       "      <td>6.43</td>\n",
       "    </tr>\n",
       "    <tr>\n",
       "      <th>2</th>\n",
       "      <td>2014-02-19</td>\n",
       "      <td>steps</td>\n",
       "      <td>15857.00</td>\n",
       "    </tr>\n",
       "    <tr>\n",
       "      <th>3</th>\n",
       "      <td>2014-02-19</td>\n",
       "      <td>calories</td>\n",
       "      <td>2149.00</td>\n",
       "    </tr>\n",
       "    <tr>\n",
       "      <th>4</th>\n",
       "      <td>2014-02-19</td>\n",
       "      <td>distance</td>\n",
       "      <td>7.39</td>\n",
       "    </tr>\n",
       "  </tbody>\n",
       "</table>\n",
       "</div>"
      ],
      "text/plain": [
       "         date  category     value\n",
       "0  2015-08-02  calories   2060.00\n",
       "1  2015-08-02  distance      6.43\n",
       "2  2014-02-19     steps  15857.00\n",
       "3  2014-02-19  calories   2149.00\n",
       "4  2014-02-19  distance      7.39"
      ]
     },
     "execution_count": 53,
     "metadata": {},
     "output_type": "execute_result"
    }
   ],
   "source": [
    "# This is required to get plots to display inline\n",
    "%matplotlib inline\n",
    "# Additional setup\n",
    "%cd /Users/dane/src/fitbit\n",
    "import pandas as pd\n",
    "import numpy as np\n",
    "import matplotlib.pyplot as plt\n",
    "ldane=pd.read_csv('fb14-16_dane.csv', header=0,\n",
    "                  names=['date', 'category', 'value'])\n",
    "lcindy=pd.read_csv('fb14-16_cindy.csv', header=0,\n",
    "                  names=['date', 'category', 'value'])\n",
    "lcindy.head()"
   ]
  },
  {
   "cell_type": "code",
   "execution_count": 76,
   "metadata": {
    "button": false,
    "new_sheet": false,
    "run_control": {
     "read_only": false
    }
   },
   "outputs": [
    {
     "data": {
      "text/html": [
       "<div>\n",
       "<table border=\"1\" class=\"dataframe\">\n",
       "  <thead>\n",
       "    <tr>\n",
       "      <th></th>\n",
       "      <th colspan=\"4\" halign=\"left\">value</th>\n",
       "      <th>date</th>\n",
       "      <th>year</th>\n",
       "    </tr>\n",
       "    <tr>\n",
       "      <th>category</th>\n",
       "      <th>calories</th>\n",
       "      <th>distance</th>\n",
       "      <th>steps</th>\n",
       "      <th>weight</th>\n",
       "      <th></th>\n",
       "      <th></th>\n",
       "    </tr>\n",
       "    <tr>\n",
       "      <th>date</th>\n",
       "      <th></th>\n",
       "      <th></th>\n",
       "      <th></th>\n",
       "      <th></th>\n",
       "      <th></th>\n",
       "      <th></th>\n",
       "    </tr>\n",
       "  </thead>\n",
       "  <tbody>\n",
       "    <tr>\n",
       "      <th>2012-12-15</th>\n",
       "      <td>2224</td>\n",
       "      <td>8.28</td>\n",
       "      <td>17442</td>\n",
       "      <td>153.0</td>\n",
       "      <td>2012-12-15</td>\n",
       "      <td>2012</td>\n",
       "    </tr>\n",
       "    <tr>\n",
       "      <th>2012-12-16</th>\n",
       "      <td>2529</td>\n",
       "      <td>10.94</td>\n",
       "      <td>23434</td>\n",
       "      <td>NaN</td>\n",
       "      <td>2012-12-16</td>\n",
       "      <td>2012</td>\n",
       "    </tr>\n",
       "    <tr>\n",
       "      <th>2012-12-17</th>\n",
       "      <td>1988</td>\n",
       "      <td>5.84</td>\n",
       "      <td>12473</td>\n",
       "      <td>153.9</td>\n",
       "      <td>2012-12-17</td>\n",
       "      <td>2012</td>\n",
       "    </tr>\n",
       "    <tr>\n",
       "      <th>2012-12-18</th>\n",
       "      <td>2178</td>\n",
       "      <td>6.15</td>\n",
       "      <td>13202</td>\n",
       "      <td>153.5</td>\n",
       "      <td>2012-12-18</td>\n",
       "      <td>2012</td>\n",
       "    </tr>\n",
       "    <tr>\n",
       "      <th>2012-12-19</th>\n",
       "      <td>2003</td>\n",
       "      <td>5.79</td>\n",
       "      <td>12330</td>\n",
       "      <td>153.4</td>\n",
       "      <td>2012-12-19</td>\n",
       "      <td>2012</td>\n",
       "    </tr>\n",
       "  </tbody>\n",
       "</table>\n",
       "</div>"
      ],
      "text/plain": [
       "              value                               date  year\n",
       "category   calories distance  steps weight                  \n",
       "date                                                        \n",
       "2012-12-15     2224     8.28  17442  153.0  2012-12-15  2012\n",
       "2012-12-16     2529    10.94  23434    NaN  2012-12-16  2012\n",
       "2012-12-17     1988     5.84  12473  153.9  2012-12-17  2012\n",
       "2012-12-18     2178     6.15  13202  153.5  2012-12-18  2012\n",
       "2012-12-19     2003     5.79  12330  153.4  2012-12-19  2012"
      ]
     },
     "execution_count": 76,
     "metadata": {},
     "output_type": "execute_result"
    }
   ],
   "source": [
    "# Collect up steps\n",
    "dane = pd.pivot_table(ldane, index='date', columns=['category'])\n",
    "cindy = pd.pivot_table(lcindy, index='date', columns=['category'])\n",
    "for i in [dane, cindy]:\n",
    "    i['date'] = i.index\n",
    "    i['year'] = i.date.apply(lambda x: int(x[:4]))\n",
    "\n",
    "cindy.head()"
   ]
  },
  {
   "cell_type": "code",
   "execution_count": 78,
   "metadata": {
    "button": false,
    "new_sheet": false,
    "run_control": {
     "read_only": false
    }
   },
   "outputs": [
    {
     "data": {
      "text/html": [
       "<div>\n",
       "<table border=\"1\" class=\"dataframe\">\n",
       "  <thead>\n",
       "    <tr>\n",
       "      <th></th>\n",
       "      <th>date</th>\n",
       "      <th>year</th>\n",
       "      <th>calories</th>\n",
       "      <th>distance</th>\n",
       "      <th>steps</th>\n",
       "      <th>weight</th>\n",
       "    </tr>\n",
       "    <tr>\n",
       "      <th>category</th>\n",
       "      <th></th>\n",
       "      <th></th>\n",
       "      <th></th>\n",
       "      <th></th>\n",
       "      <th></th>\n",
       "      <th></th>\n",
       "    </tr>\n",
       "    <tr>\n",
       "      <th>date</th>\n",
       "      <th></th>\n",
       "      <th></th>\n",
       "      <th></th>\n",
       "      <th></th>\n",
       "      <th></th>\n",
       "      <th></th>\n",
       "    </tr>\n",
       "  </thead>\n",
       "  <tbody>\n",
       "    <tr>\n",
       "      <th>2012-11-01</th>\n",
       "      <td>2012-11-01</td>\n",
       "      <td>2012</td>\n",
       "      <td>2087</td>\n",
       "      <td>5.22</td>\n",
       "      <td>10663</td>\n",
       "      <td>NaN</td>\n",
       "    </tr>\n",
       "    <tr>\n",
       "      <th>2012-11-02</th>\n",
       "      <td>2012-11-02</td>\n",
       "      <td>2012</td>\n",
       "      <td>2316</td>\n",
       "      <td>5.43</td>\n",
       "      <td>11085</td>\n",
       "      <td>NaN</td>\n",
       "    </tr>\n",
       "    <tr>\n",
       "      <th>2012-11-03</th>\n",
       "      <td>2012-11-03</td>\n",
       "      <td>2012</td>\n",
       "      <td>2479</td>\n",
       "      <td>8.46</td>\n",
       "      <td>17284</td>\n",
       "      <td>NaN</td>\n",
       "    </tr>\n",
       "    <tr>\n",
       "      <th>2012-11-04</th>\n",
       "      <td>2012-11-04</td>\n",
       "      <td>2012</td>\n",
       "      <td>2298</td>\n",
       "      <td>5.41</td>\n",
       "      <td>11044</td>\n",
       "      <td>NaN</td>\n",
       "    </tr>\n",
       "    <tr>\n",
       "      <th>2012-11-05</th>\n",
       "      <td>2012-11-05</td>\n",
       "      <td>2012</td>\n",
       "      <td>1976</td>\n",
       "      <td>4.96</td>\n",
       "      <td>10131</td>\n",
       "      <td>NaN</td>\n",
       "    </tr>\n",
       "  </tbody>\n",
       "</table>\n",
       "</div>"
      ],
      "text/plain": [
       "                  date  year calories distance  steps weight\n",
       "category                                                    \n",
       "date                                                        \n",
       "2012-11-01  2012-11-01  2012     2087     5.22  10663    NaN\n",
       "2012-11-02  2012-11-02  2012     2316     5.43  11085    NaN\n",
       "2012-11-03  2012-11-03  2012     2479     8.46  17284    NaN\n",
       "2012-11-04  2012-11-04  2012     2298     5.41  11044    NaN\n",
       "2012-11-05  2012-11-05  2012     1976     4.96  10131    NaN"
      ]
     },
     "execution_count": 78,
     "metadata": {},
     "output_type": "execute_result"
    }
   ],
   "source": [
    "# having an extra value in the index is ugly\n",
    "for k in ['calories', 'distance', 'steps', 'weight']:\n",
    "    dane[k] = dane['value',k]\n",
    "    cindy[k] = cindy['value', k]\n",
    "    \n",
    "dane.drop('value', axis=1, inplace=True)\n",
    "cindy.drop('value', axis=1, inplace=True)\n",
    "dane.head()"
   ]
  },
  {
   "cell_type": "code",
   "execution_count": 57,
   "metadata": {
    "button": false,
    "new_sheet": false,
    "run_control": {
     "read_only": false
    }
   },
   "outputs": [
    {
     "name": "stdout",
     "output_type": "stream",
     "text": [
      "Average distance per day was 8.1/8.0 miles for dane/cindy\n"
     ]
    }
   ],
   "source": [
    "print('Average distance per day was {:3.1f}/{:3.1f} miles for dane/cindy'.format(np.average(dane['distance']),np.average(cindy['distance'])))"
   ]
  },
  {
   "cell_type": "code",
   "execution_count": 58,
   "metadata": {
    "button": false,
    "new_sheet": false,
    "run_control": {
     "read_only": false
    }
   },
   "outputs": [
    {
     "name": "stdout",
     "output_type": "stream",
     "text": [
      "The most steps in a day was: 43958.0/44847.0 for dane/cindy\n"
     ]
    }
   ],
   "source": [
    "print('The most steps in a day was: {}/{} for dane/cindy'.format(max(dane['steps']), max(cindy['steps'])))"
   ]
  },
  {
   "cell_type": "code",
   "execution_count": 74,
   "metadata": {
    "button": false,
    "new_sheet": false,
    "run_control": {
     "read_only": false
    }
   },
   "outputs": [
    {
     "name": "stdout",
     "output_type": "stream",
     "text": [
      "Cindy\n",
      "  Average steps: 17,042\n",
      "  Total steps: 25,171,339.0\n",
      "  Total distance: 11,782\n",
      "Dane\n",
      "  Average steps: 16,706\n",
      "  Total steps: 25,410,988.0\n",
      "  Total distance: 12,358\n"
     ]
    }
   ],
   "source": [
    "# Basic Stats\n",
    "for n, i in [('Cindy', cindy), ('Dane', dane)]:\n",
    "    print('{}'.format(n.title()))\n",
    "    print('  Average steps: {:,}'.format(int(i.steps.mean())))\n",
    "    print('  Total steps: {:,}'.format(i.steps.sum()))\n",
    "    print('  Total distance: {:,}'.format(int(i.distance.sum())))\n",
    "    "
   ]
  },
  {
   "cell_type": "code",
   "execution_count": 79,
   "metadata": {
    "button": false,
    "new_sheet": false,
    "run_control": {
     "read_only": false
    }
   },
   "outputs": [
    {
     "data": {
      "image/png": "[encoded data removed]",
      "text/plain": [
       "<matplotlib.figure.Figure at 0x10da65b38>"
      ]
     },
     "metadata": {},
     "output_type": "display_data"
    }
   ],
   "source": [
    "fig = plt.gcf()\n",
    "fig.set_size_inches(18,6)\n",
    "plt.figure(1)\n",
    "plt.subplot(121) # numrows, numcols, fignum\n",
    "cindy['steps'].hist(bins=30)\n",
    "plt.title('Lifetime Step Distrubution for Cindy')\n",
    "plt.subplot(122)\n",
    "dane['steps'].hist(bins=30)\n",
    "plt.title('Lifetime Step Distrubution for Dane')\n",
    "plt.show()\n"
   ]
  },
  {
   "cell_type": "code",
   "execution_count": 84,
   "metadata": {
    "button": false,
    "new_sheet": false,
    "run_control": {
     "read_only": false
    }
   },
   "outputs": [
    {
     "data": {
      "image/png": "[encoded data removed]",
      "text/plain": [
       "<matplotlib.figure.Figure at 0x10eca5320>"
      ]
     },
     "metadata": {},
     "output_type": "display_data"
    }
   ],
   "source": [
    "fig = plt.gcf()\n",
    "fig.set_size_inches(18,6)\n",
    "plt.figure(1)\n",
    "plt.subplot(121) # numrows, numcols, fignum\n",
    "cindy[cindy.year==2016]['steps'].hist(bins=30)\n",
    "plt.title('2016 Step Distrubution for Cindy')\n",
    "plt.subplot(122)\n",
    "dane[dane.year==2016]['steps'].hist(bins=30)\n",
    "plt.title('2016 Step Distrubution for Dane')\n",
    "plt.show()\n"
   ]
  },
  {
   "cell_type": "code",
   "execution_count": 87,
   "metadata": {
    "button": false,
    "new_sheet": false,
    "run_control": {
     "read_only": false
    }
   },
   "outputs": [
    {
     "name": "stdout",
     "output_type": "stream",
     "text": [
      "Cindy\n",
      "  Average steps for 2013: 13,820\n",
      "  Average steps for 2014: 17,735\n",
      "  Average steps for 2015: 17,726\n",
      "  Average steps for 2016: 19,002\n",
      "Dane\n",
      "  Average steps for 2013: 13,691\n",
      "  Average steps for 2014: 18,049\n",
      "  Average steps for 2015: 17,243\n",
      "  Average steps for 2016: 18,665\n"
     ]
    }
   ],
   "source": [
    "# Basic Stats\n",
    "for n, i in [('Cindy', cindy), ('Dane', dane)]:\n",
    "    print('{}'.format(n.title()))\n",
    "    for y in [2013, 2014, 2015, 2016]:\n",
    "        d = i[i.year == y]\n",
    "        print('  Average steps for {}: {:,}'.format(y, int(d['steps'].mean())))\n"
   ]
  },
  {
   "cell_type": "code",
   "execution_count": 89,
   "metadata": {
    "button": false,
    "new_sheet": false,
    "run_control": {
     "read_only": false
    }
   },
   "outputs": [
    {
     "data": {
      "text/html": [
       "<div>\n",
       "<table border=\"1\" class=\"dataframe\">\n",
       "  <thead>\n",
       "    <tr>\n",
       "      <th></th>\n",
       "      <th>date</th>\n",
       "      <th>year</th>\n",
       "      <th>calories</th>\n",
       "      <th>distance</th>\n",
       "      <th>steps</th>\n",
       "      <th>weight</th>\n",
       "    </tr>\n",
       "    <tr>\n",
       "      <th>category</th>\n",
       "      <th></th>\n",
       "      <th></th>\n",
       "      <th></th>\n",
       "      <th></th>\n",
       "      <th></th>\n",
       "      <th></th>\n",
       "    </tr>\n",
       "    <tr>\n",
       "      <th>date</th>\n",
       "      <th></th>\n",
       "      <th></th>\n",
       "      <th></th>\n",
       "      <th></th>\n",
       "      <th></th>\n",
       "      <th></th>\n",
       "    </tr>\n",
       "  </thead>\n",
       "  <tbody>\n",
       "    <tr>\n",
       "      <th>2016-01-01</th>\n",
       "      <td>2016-01-01</td>\n",
       "      <td>2016</td>\n",
       "      <td>1981</td>\n",
       "      <td>7.61</td>\n",
       "      <td>16331</td>\n",
       "      <td>137</td>\n",
       "    </tr>\n",
       "  </tbody>\n",
       "</table>\n",
       "</div>"
      ],
      "text/plain": [
       "                  date  year calories distance  steps weight\n",
       "category                                                    \n",
       "date                                                        \n",
       "2016-01-01  2016-01-01  2016     1981     7.61  16331    137"
      ]
     },
     "execution_count": 89,
     "metadata": {},
     "output_type": "execute_result"
    }
   ],
   "source": [
    "cindy16 = cindy[cindy.year==2016]\n",
    "cindy16.head(1)"
   ]
  },
  {
   "cell_type": "code",
   "execution_count": 90,
   "metadata": {
    "button": false,
    "new_sheet": false,
    "run_control": {
     "read_only": false
    }
   },
   "outputs": [
    {
     "data": {
      "text/plain": [
       "'2016-01-01'"
      ]
     },
     "execution_count": 90,
     "metadata": {},
     "output_type": "execute_result"
    }
   ],
   "source": [
    "min(cindy16.date)"
   ]
  },
  {
   "cell_type": "code",
   "execution_count": 91,
   "metadata": {
    "button": false,
    "new_sheet": false,
    "run_control": {
     "read_only": false
    }
   },
   "outputs": [
    {
     "data": {
      "text/plain": [
       "<matplotlib.axes._subplots.AxesSubplot at 0x10ef55cf8>"
      ]
     },
     "execution_count": 91,
     "metadata": {},
     "output_type": "execute_result"
    },
    {
     "data": {
      "image/png": "[encoded data removed]",
      "text/plain": [
       "<matplotlib.figure.Figure at 0x10ef55cc0>"
      ]
     },
     "metadata": {},
     "output_type": "display_data"
    }
   ],
   "source": [
    "ou = (cindy16.steps - 14000)/1000\n",
    "fig = plt.gcf()\n",
    "fig.set_size_inches(20,3)\n",
    "ou.plot(kind='bar')\n"
   ]
  },
  {
   "cell_type": "code",
   "execution_count": 92,
   "metadata": {
    "button": false,
    "new_sheet": false,
    "run_control": {
     "read_only": false
    }
   },
   "outputs": [
    {
     "data": {
      "text/plain": [
       "<matplotlib.axes._subplots.AxesSubplot at 0x10ecc0ba8>"
      ]
     },
     "execution_count": 92,
     "metadata": {},
     "output_type": "execute_result"
    },
    {
     "data": {
      "image/png": "[encoded data removed]",
      "text/plain": [
       "<matplotlib.figure.Figure at 0x10ec3dac8>"
      ]
     },
     "metadata": {},
     "output_type": "display_data"
    }
   ],
   "source": [
    "dane16 = dane[i.year==2016]\n",
    "ou = (dane16.steps - 15000)/1000\n",
    "fig = plt.gcf()\n",
    "fig.set_size_inches(22,3)\n",
    "ou.plot(kind='bar')"
   ]
  },
  {
   "cell_type": "code",
   "execution_count": 95,
   "metadata": {
    "button": false,
    "new_sheet": false,
    "run_control": {
     "read_only": false
    }
   },
   "outputs": [
    {
     "name": "stdout",
     "output_type": "stream",
     "text": [
      "Cindy was below 14K steps on 12 days\n",
      "Dane was below 14K steps pn 21 days\n"
     ]
    }
   ],
   "source": [
    "missed = cindy16[cindy16.steps < 14000]\n",
    "print('Cindy was below 14K steps on {} days'.format(len(missed)))\n",
    "print('Dane was below 14K steps pn {} days'.format(len(dane16[dane16.steps < 14000])))"
   ]
  },
  {
   "cell_type": "code",
   "execution_count": 113,
   "metadata": {
    "button": false,
    "new_sheet": false,
    "run_control": {
     "read_only": false
    }
   },
   "outputs": [
    {
     "data": {
      "text/html": [
       "<div>\n",
       "<table border=\"1\" class=\"dataframe\">\n",
       "  <thead>\n",
       "    <tr>\n",
       "      <th></th>\n",
       "      <th>date</th>\n",
       "      <th>year</th>\n",
       "      <th>calories</th>\n",
       "      <th>distance</th>\n",
       "      <th>steps</th>\n",
       "      <th>weight</th>\n",
       "      <th>goalmet</th>\n",
       "    </tr>\n",
       "    <tr>\n",
       "      <th>category</th>\n",
       "      <th></th>\n",
       "      <th></th>\n",
       "      <th></th>\n",
       "      <th></th>\n",
       "      <th></th>\n",
       "      <th></th>\n",
       "      <th></th>\n",
       "    </tr>\n",
       "    <tr>\n",
       "      <th>date</th>\n",
       "      <th></th>\n",
       "      <th></th>\n",
       "      <th></th>\n",
       "      <th></th>\n",
       "      <th></th>\n",
       "      <th></th>\n",
       "      <th></th>\n",
       "    </tr>\n",
       "  </thead>\n",
       "  <tbody>\n",
       "    <tr>\n",
       "      <th>2016-01-01</th>\n",
       "      <td>2016-01-01</td>\n",
       "      <td>2016</td>\n",
       "      <td>2605</td>\n",
       "      <td>8.30</td>\n",
       "      <td>16941</td>\n",
       "      <td>161.0</td>\n",
       "      <td>1</td>\n",
       "    </tr>\n",
       "    <tr>\n",
       "      <th>2016-01-02</th>\n",
       "      <td>2016-01-02</td>\n",
       "      <td>2016</td>\n",
       "      <td>2533</td>\n",
       "      <td>7.33</td>\n",
       "      <td>14963</td>\n",
       "      <td>160.6</td>\n",
       "      <td>1</td>\n",
       "    </tr>\n",
       "    <tr>\n",
       "      <th>2016-01-03</th>\n",
       "      <td>2016-01-03</td>\n",
       "      <td>2016</td>\n",
       "      <td>2720</td>\n",
       "      <td>8.80</td>\n",
       "      <td>17979</td>\n",
       "      <td>160.1</td>\n",
       "      <td>1</td>\n",
       "    </tr>\n",
       "    <tr>\n",
       "      <th>2016-01-04</th>\n",
       "      <td>2016-01-04</td>\n",
       "      <td>2016</td>\n",
       "      <td>2538</td>\n",
       "      <td>7.87</td>\n",
       "      <td>16071</td>\n",
       "      <td>158.3</td>\n",
       "      <td>1</td>\n",
       "    </tr>\n",
       "    <tr>\n",
       "      <th>2016-01-05</th>\n",
       "      <td>2016-01-05</td>\n",
       "      <td>2016</td>\n",
       "      <td>2460</td>\n",
       "      <td>7.38</td>\n",
       "      <td>15074</td>\n",
       "      <td>158.4</td>\n",
       "      <td>1</td>\n",
       "    </tr>\n",
       "  </tbody>\n",
       "</table>\n",
       "</div>"
      ],
      "text/plain": [
       "                  date  year calories distance  steps weight goalmet\n",
       "category                                                            \n",
       "date                                                                \n",
       "2016-01-01  2016-01-01  2016     2605     8.30  16941  161.0       1\n",
       "2016-01-02  2016-01-02  2016     2533     7.33  14963  160.6       1\n",
       "2016-01-03  2016-01-03  2016     2720     8.80  17979  160.1       1\n",
       "2016-01-04  2016-01-04  2016     2538     7.87  16071  158.3       1\n",
       "2016-01-05  2016-01-05  2016     2460     7.38  15074  158.4       1"
      ]
     },
     "execution_count": 113,
     "metadata": {},
     "output_type": "execute_result"
    }
   ],
   "source": [
    "cindy16.is_copy = False\n",
    "dane16.is_copy = False\n",
    "cindy16['goalmet'] = np.where(cindy16.steps > 14000, 1, -1)\n",
    "dane16['goalmet'] = np.where(dane16.steps > 14000, 1, -1)\n",
    "dane16.head()"
   ]
  },
  {
   "cell_type": "code",
   "execution_count": 107,
   "metadata": {
    "button": false,
    "new_sheet": false,
    "run_control": {
     "read_only": false
    }
   },
   "outputs": [
    {
     "data": {
      "image/png": "[encoded data removed]",
      "text/plain": [
       "<matplotlib.figure.Figure at 0x10fa15da0>"
      ]
     },
     "metadata": {},
     "output_type": "display_data"
    }
   ],
   "source": [
    "fig = plt.gcf()\n",
    "fig.set_size_inches(18,6)\n",
    "plt.figure(1)\n",
    "plt.subplot(411)\n",
    "cindy16.index=pd.to_datetime(x.date,format='%Y-%m-%d')\n",
    "plt.bar(cindy16.index, cindy16.goalmet, color='hotpink')\n",
    "plt.yticks([-1.1,1.1])\n",
    "plt.show()"
   ]
  },
  {
   "cell_type": "code",
   "execution_count": 114,
   "metadata": {
    "button": false,
    "new_sheet": false,
    "run_control": {
     "read_only": false
    }
   },
   "outputs": [
    {
     "data": {
      "image/png": "[encoded data removed]",
      "text/plain": [
       "<matplotlib.figure.Figure at 0x10fa34dd8>"
      ]
     },
     "metadata": {},
     "output_type": "display_data"
    }
   ],
   "source": [
    "fig = plt.gcf()\n",
    "fig.set_size_inches(18,6)\n",
    "plt.figure(1)\n",
    "plt.subplot(411)\n",
    "dane16.index=pd.to_datetime(dane16.date,format='%Y-%m-%d')\n",
    "plt.bar(dane16.index, dane16.goalmet, color='blue')\n",
    "plt.yticks([-1.1,1.1])\n",
    "plt.show()"
   ]
  },
  {
   "cell_type": "code",
   "execution_count": 115,
   "metadata": {
    "button": false,
    "new_sheet": false,
    "run_control": {
     "read_only": false
    }
   },
   "outputs": [
    {
     "data": {
      "text/plain": [
       "Timestamp('2016-01-01 00:00:00')"
      ]
     },
     "execution_count": 115,
     "metadata": {},
     "output_type": "execute_result"
    }
   ],
   "source": [
    "dane16.index[0]"
   ]
  },
  {
   "cell_type": "code",
   "execution_count": 118,
   "metadata": {
    "button": false,
    "new_sheet": false,
    "run_control": {
     "read_only": false
    }
   },
   "outputs": [
    {
     "ename": "AttributeError",
     "evalue": "module 'datetime' has no attribute 'week'",
     "output_type": "error",
     "traceback": [
      "\u001b[0;31m---------------------------------------------------------------------------\u001b[0m",
      "\u001b[0;31mAttributeError\u001b[0m                            Traceback (most recent call last)",
      "\u001b[0;32m<ipython-input-118-d17e0c79f873>\u001b[0m in \u001b[0;36m<module>\u001b[0;34m()\u001b[0m\n\u001b[0;32m----> 1\u001b[0;31m \u001b[0mdatetime\u001b[0m\u001b[0;34m.\u001b[0m\u001b[0mweek\u001b[0m\u001b[0;34m(\u001b[0m\u001b[0mdane16\u001b[0m\u001b[0;34m.\u001b[0m\u001b[0mindex\u001b[0m\u001b[0;34m[\u001b[0m\u001b[0;36m0\u001b[0m\u001b[0;34m]\u001b[0m\u001b[0;34m)\u001b[0m\u001b[0;34m\u001b[0m\u001b[0m\n\u001b[0m",
      "\u001b[0;31mAttributeError\u001b[0m: module 'datetime' has no attribute 'week'"
     ]
    }
   ],
   "source": [
    "datetime.week(dane16.index[0])"
   ]
  },
  {
   "cell_type": "code",
   "execution_count": 117,
   "metadata": {
    "button": false,
    "collapsed": true,
    "new_sheet": false,
    "run_control": {
     "read_only": false
    }
   },
   "outputs": [],
   "source": [
    "import datetime"
   ]
  },
  {
   "cell_type": "code",
   "execution_count": null,
   "metadata": {
    "button": false,
    "collapsed": true,
    "new_sheet": false,
    "run_control": {
     "read_only": false
    }
   },
   "outputs": [],
   "source": []
  }
 ],
 "metadata": {
  "hide_input": false,
  "kernelspec": {
   "display_name": "Python 3",
   "language": "python",
   "name": "python3"
  },
  "language_info": {
   "codemirror_mode": {
    "name": "ipython",
    "version": 3
   },
   "file_extension": ".py",
   "mimetype": "text/x-python",
   "name": "python",
   "nbconvert_exporter": "python",
   "pygments_lexer": "ipython3",
   "version": "3.4.2"
  }
 },
 "nbformat": 4,
 "nbformat_minor": 1
}
